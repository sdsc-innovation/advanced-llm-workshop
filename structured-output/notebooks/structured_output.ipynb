{
 "cells": [
  {
   "cell_type": "markdown",
   "id": "cce52a519fcb861f",
   "metadata": {
    "editable": true,
    "slideshow": {
     "slide_type": "slide"
    },
    "tags": []
   },
   "source": [
    "# LLM and data extraction\n",
    "\n",
    "In this notebook, we will explore how to use the OpenAI API to extract metadata from scientific papers. We will use a PDF file as input and convert it to markdown text. Then, we will use the OpenAI API to extract the title, authors, and abstract from the markdown text.\n",
    "\n",
    "We will compare different methods to extract metadata from scientific papers using the OpenAI API, including:\n",
    "- Asking the API to extract the metadata directly from the markdown text.\n",
    "- Asking the API to extract the metadata and return the result in JSON format.\n",
    "- Using a JSON schema to define the expected output format.\n",
    "- Using Pydantic models to define the expected output format.\n",
    "- Using function calls to extract metadata from the markdown text.\n",
    "\n",
    "In all the following exemple we'll extract the same information on all these articles:\n",
    "- Title\n",
    "- Authors\n",
    "- Abstract"
   ]
  },
  {
   "cell_type": "markdown",
   "id": "2696f294-70e8-42e3-a5aa-a70ebb3fc22b",
   "metadata": {
    "editable": true,
    "slideshow": {
     "slide_type": "subslide"
    },
    "tags": []
   },
   "source": [
    "## Why JSON?\n",
    "\n",
    "- **Interoperability**: JSON is language-agnostic and easily parsed in Python, R, and other languages.\n",
    "- **API Integration**: Many data sources and web services provide data in JSON format, making it essential for fetching and processing external data.\n",
    "- **Hierarchical Structure**: Supports nested data, making it ideal for representing complex datasets like configurations or structured logs.\n",
    "- **Integration with Pandas**: Python's `pandas` library provides seamless methods (`pd.read_json`, `to_json`) for handling JSON data."
   ]
  },
  {
   "cell_type": "markdown",
   "id": "8c27ff0b356d5754",
   "metadata": {
    "editable": true,
    "slideshow": {
     "slide_type": "slide"
    },
    "tags": []
   },
   "source": [
    "## Initialize the OpenAI client and load the libraries"
   ]
  },
  {
   "cell_type": "code",
   "id": "c8436326871e6351",
   "metadata": {
    "editable": true,
    "slideshow": {
     "slide_type": "skip"
    },
    "tags": []
   },
   "source": [
    "!pip install -r requirements.txt"
   ],
   "outputs": [],
   "execution_count": null
  },
  {
   "cell_type": "code",
   "id": "553e1171e3d7920",
   "metadata": {
    "editable": true,
    "slideshow": {
     "slide_type": "fragment"
    },
    "tags": [],
    "ExecuteTime": {
     "end_time": "2025-03-13T09:26:22.878722Z",
     "start_time": "2025-03-13T09:26:22.550947Z"
    }
   },
   "source": [
    "import json\n",
    "import re\n",
    "import pymupdf4llm\n",
    "import os\n",
    "import getpass\n",
    "\n",
    "from pydantic import BaseModel, Field\n",
    "from typing import List\n",
    "\n",
    "from openai import OpenAI\n",
    "\n",
    "from src.pdf_extraction_api import PDFExtractorAPI"
   ],
   "outputs": [],
   "execution_count": 1
  },
  {
   "cell_type": "code",
   "id": "1eb3f67bcdd61fce",
   "metadata": {
    "editable": true,
    "slideshow": {
     "slide_type": "fragment"
    },
    "tags": [],
    "ExecuteTime": {
     "end_time": "2025-03-13T09:26:27.296170Z",
     "start_time": "2025-03-13T09:26:25.405771Z"
    }
   },
   "source": [
    "os.environ[\"OPENAI_API_KEY\"] = getpass.getpass()"
   ],
   "outputs": [],
   "execution_count": 2
  },
  {
   "cell_type": "code",
   "id": "48713877fe6308ba",
   "metadata": {
    "editable": true,
    "slideshow": {
     "slide_type": "fragment"
    },
    "tags": [],
    "ExecuteTime": {
     "end_time": "2025-03-13T09:26:28.467216Z",
     "start_time": "2025-03-13T09:26:28.419927Z"
    }
   },
   "source": [
    "client = OpenAI()\n",
    "MODEL=\"gpt-4o-mini\""
   ],
   "outputs": [],
   "execution_count": 3
  },
  {
   "cell_type": "markdown",
   "id": "8fa4dc7653db9f64",
   "metadata": {
    "editable": true,
    "slideshow": {
     "slide_type": "slide"
    },
    "tags": []
   },
   "source": [
    "## Load pdf and convert to markdown\n",
    "\n",
    "Here we're using the `pymupdf4llm` library to convert a PDF file to markdown. There are other alternatives such as `textract` and `docling` that can be used to extract text from PDF files. After the workshop feel free to try different libraries and compare the results.\n",
    "\n",
    "We downloaded 2 articles from Pubmed to showcase the process of data extraction. Feel free to try both articles and compare the results."
   ]
  },
  {
   "cell_type": "code",
   "id": "9d9992e9fdc0a91f",
   "metadata": {
    "editable": true,
    "slideshow": {
     "slide_type": "fragment"
    },
    "tags": [],
    "ExecuteTime": {
     "end_time": "2025-03-13T09:26:44.180919Z",
     "start_time": "2025-03-13T09:26:29.863651Z"
    }
   },
   "source": [
    "# Load the PDF file\n",
    "pdf_path = \"../data/Explainable_machine_learning_prediction_of_edema_a.pdf\"\n",
    "# pdf_path = \"../data/Modeling tumor size dynamics based on real‐world electronic health records.pdf\"\n",
    "\n",
    "# Convert the PDF file to markdown\n",
    "# markdown_text = pymupdf4llm.to_markdown(pdf_path)\n",
    "\n",
    "data_extractor = PDFExtractorAPI()\n",
    "_, markdown_text, _ = data_extractor.extract_text_and_images(pdf_path)"
   ],
   "outputs": [],
   "execution_count": 4
  },
  {
   "cell_type": "code",
   "id": "ff74d0515a77808b",
   "metadata": {
    "editable": true,
    "scrolled": true,
    "slideshow": {
     "slide_type": "subslide"
    },
    "tags": [],
    "ExecuteTime": {
     "end_time": "2025-03-13T09:26:44.201791Z",
     "start_time": "2025-03-13T09:26:44.196895Z"
    }
   },
   "source": [
    "print(markdown_text[:10000])"
   ],
   "outputs": [
    {
     "name": "stdout",
     "output_type": "stream",
     "text": [
      "DOI: [10.1111/cts.70010](https://doi.org/10.1111/cts.70010)\n",
      "\n",
      "### **ARTICLE**\n",
      "\n",
      "![](_page_0_Picture_4.jpeg)\n",
      "\n",
      "# **Explainable machine learning prediction of edema adverse events in patients treated with tepotinib**\n",
      "\n",
      "**Federico Amato[1](#page-0-0)** | **Rainer Strotmann[2](#page-0-1)** | **Roberto Castell[o1](#page-0-0)** | **Rolf Bruns[2](#page-0-1)** | **Vishal Ghori[3](#page-0-2)** | **Andreas John[e2](#page-0-1)** | **Karin Berghoff[2](#page-0-1)** | **Karthik Venkatakrishna[n4](#page-0-3)** | **Nadia Terranova[5](#page-0-4)**\n",
      "\n",
      "<span id=\"page-0-0\"></span>1 Swiss Data Science Center (EPFL and ETH Zurich), Lausanne, Switzerland\n",
      "\n",
      "<span id=\"page-0-1\"></span>2 The healthcare business of Merck KGaA, Darmstadt, Germany\n",
      "\n",
      "<span id=\"page-0-2\"></span>3 Ares Trading S.A., Eysins, Switzerland, an affiliate of Merck KGaA, Darmstadt, Germany\n",
      "\n",
      "<span id=\"page-0-3\"></span>4 EMD Serono, Billerica, Massachusetts, USA\n",
      "\n",
      "<span id=\"page-0-4\"></span>5 Quantitative Pharmacology, Ares Trading S.A., Lausanne, Switzerland, an affiliate of Merck KGaA, Darmstadt, Germany\n",
      "\n",
      "#### **Correspondence**\n",
      "\n",
      "Nadia Terranova, Quantitative Pharmacology, Ares Trading S.A., Lausanne, Switzerland, an affiliate of Merck KGaA, Darmstadt, Germany. Email: [nadia.terranova@emdgroup.](mailto:nadia.terranova@emdgroup.com) [com](mailto:nadia.terranova@emdgroup.com)\n",
      "\n",
      "### **Abstract**\n",
      "\n",
      "Tepotinib is approved for the treatment of patients with non-small-cell lung cancer harboring *MET* exon 14 skipping alterations. While edema is the most prevalent adverse event (AE) and a known class effect of MET inhibitors including tepotinib, there is still limited understanding about the factors contributing to its occurrence. Herein, we apply machine learning (ML)-based approaches to predict the likelihood of occurrence of edema in patients undergoing tepotinib treatment, and to identify factors influencing its development over time. Data from 612 patients receiving tepotinib in five Phase I/II studies were modeled with two ML algorithms, Random Forest, and Gradient Boosting Trees, to predict edema AE incidence and severity. Probability calibration was applied to give a realistic estimation of the likelihood of edema AE. Best model was tested on follow-up data and on data from clinical studies unused while training. Results showed high performances across all the tested settings, with F1 scores up to 0.961 when retraining the model with the most relevant covariates. The use of ML explainability methods identified serum albumin as the most informative longitudinal covariate, and higher age as associated with higher probabilities of more severe edema. The developed methodological framework enables the use of ML algorithms for analyzing clinical safety data and exploiting longitudinal information through various covariate engineering approaches. Probability calibration ensures the accurate estimation of the likelihood of the AE occurrence, while explainability tools can identify factors contributing to model predictions, hence supporting population and individual patient-level interpretation.\n",
      "\n",
      "### **Study Highlights**\n",
      "\n",
      "### **WHAT IS THE CURRENT KNOWLEDGE ON THE TOPIC?**\n",
      "\n",
      "Edema is recognized as the most prevalent AE and a known class effect of MET inhibitors, including tepotinib. Current efforts aim to understand the efficacy of\n",
      "\n",
      "Karin Berghoff was an employee at the time of the study.\n",
      "\n",
      "This is an open access article under the terms of the [Creative Commons Attribution-NonCommercial](http://creativecommons.org/licenses/by-nc/4.0/) License, which permits use, distribution and reproduction in any medium, provided the original work is properly cited and is not used for commercial purposes.\n",
      "\n",
      "© 2024 The Author(s). *Clinical and Translational Science* published by Wiley Periodicals LLC on behalf of American Society for Clinical Pharmacology and Therapeutics.\n",
      "\n",
      "dose modifications in reducing this AE, exploring its relationship with potential prognostic factors.\n",
      "\n",
      "### **WHAT QUESTION DID THIS STUDY ADDRESS?**\n",
      "\n",
      "Are there baseline and time-varying factors to support the identification of higher likelihood of edema occurrence in patients receiving tepotinib treatment?\n",
      "\n",
      "### **WHAT DOES THIS STUDY ADD TO OUR KNOWLEDGE?**\n",
      "\n",
      "This study assesses 54 covariates as predictors of edema using ML. Explainability tools investigate the relationship between input covariates and predicted outcomes. The identified drivers align with the existing knowledge of the investigated AE behavior.\n",
      "\n",
      "### **HOW MIGHT THIS CHANGE DRUG DISCOVERY, DEVELOPMENT, AND/OR THERAPEUTICS?**\n",
      "\n",
      "This study presents a framework to apply ML and explainability algorithms on longitudinal clinical data, ensuring a correct estimation of the probability of occurrence of the predicted events. Findings from the presented use case showcase the potential of the framework to enhance insights in clinical pharmacology and increase confidence in safety model outcomes.\n",
      "\n",
      "# **INTRODUCTION**\n",
      "\n",
      "Drug-disease models play a pivotal role in quantitative understanding of the trajectory of disease pathophysiology and the effects of drug treatment. These empirical or mechanistic models, often requiring the abstraction of data into dynamical systems, have proven to be valuable tools in drug development and therapeutic research.[1](#page-10-0) However, their ability to mathematically describe complex datasets is highly dependent on the availability, quality, and quantity of data, and on the assumptions made by the modeler[.2](#page-10-1) In parallel, the recent digital healthcare revolution has significantly expanded the opportunities to collect diverse, multimodal, high-dimensional data, including clinical information, multi-omics data, electronic health records, and imaging data, enabling advancements in precision medicine.[3-5](#page-10-2) While this presents new opportunities to enhance drug development efficiency and improve patient care, it also poses a new challenge for traditional modeling approaches. Indeed, extracting meaningful insights from such vast volumes of diverse data has become increasingly difficult.\n",
      "\n",
      "In this context, machine learning (ML) approaches have emerged as promising in advancing understanding in drug and disease in the context of drug development, while complementing and enhancing conventional approaches like pharmacometrics models[.6](#page-10-3) ML models are universal, nonlinear, function approximation tools capable of learning patterns from empirical data by exploiting highly dimensional input spaces, that is, potentially incorporating a large number of covariates within the model.[7,8](#page-10-4) Moreover, no assumptions on data distributions or on the biological process driving the studied phenomena must be a priori taken, as ML models are fully data driven. Such characteristics neatly distinguish ML algorithms from other non-mechanistic models and traditional statistical approaches.[9](#page-10-5) Many ML applications have already proven effective in modeling the occurrence of events or clinical outcomes along with baseline covariate values. However, there is still not a shared unified pipeline for ML application on longitudinal clinical data.\n",
      "\n",
      "In this study, a framework to apply ML approaches to the prediction of longitudinal clinical end points is proposed. The framework is presented via an application on the case study of tepotinib, a highly selective, potent, orally available, reversible, type Ib adenosine triphosphate (ATP)-competitive, small molecule inhibitor of the mesenchymal–epithelial transition factor (MET)[.10](#page-10-6) Tepotinib inhibits hepatocyte growth factor (HGF)-dependent and -independent MET tyrosine kinase signaling by blocking MET phosphorylation, and showed antitumor activity in multiple tumor models derived from diverse cancer types.[11,12](#page-10-7) The antitumor activity of tepotinib is particularly pronounced in tumors with oncogenic alterations of *MET*, such as *MET* exon 14 (*MET*ex14) skipping and highlevel *MET* amplification. Based on results from the Phase II VISION (NCT02864992) clinical trial,[13-16](#page-10-8) tepotinib is approved in multiple regions for the treatment of patients with non-small-cell lung cancer (NSCLC) with *MET*ex14 skipping alterations, representing ~3–4% of this type of cancer.\n",
      "\n",
      "Previous clinical studies have revealed edema as the most prevalent adverse event and a known class effect of MET inhibitors including tepotinib.[17,18](#page-10-9) However, the\n",
      "\n",
      "links between the participants' clinical history, the time and duration of tepotinib treatment, and the occurrence of edema remain unclear, and understanding the effect of dose modifications to mitigate such adverse event is the object of ongoing investigations.\n",
      "\n",
      "The objectives of this study were twofold. First, ML models were tested to predict the occurrence of edema grade in patients undergoing tepotinib treatment. To this aim, a framework to apply classical ML approaches to the specific task of edema prediction was designed. In doing so, two ML models belonging to the family of classification trees algorithm, namely Random Forest (RF) and Gradient Boosting Trees (GBT), were applied and benchmarked. Classification trees are known to outperform more complex models, including neural networks, when used for prediction tasks on structured tabular data such as those collected for the present study.[19](#page-10-10) However, they are not able to intrinsically account for the longitudinal dimension characterizing clinical data. To overcome this limitation, different ways of introducing the temporal dimension into the model via covariate engineering were evaluated. The performances of the best predictive model were verified on longer term follow-up data, and on data for a different set of patients. Finally, the model was retrained including the entire dataset and only on a reduced set of the most relevant input covariates.\n",
      "\n",
      "The second objective of the study was the identification of the factors predicting edema occurrence a\n"
     ]
    }
   ],
   "execution_count": 5
  },
  {
   "cell_type": "markdown",
   "id": "c8e4c924c9414ed7",
   "metadata": {
    "editable": true,
    "slideshow": {
     "slide_type": "slide"
    },
    "tags": []
   },
   "source": [
    "## Default extraction\n",
    "\n",
    "In this case, we will provide a prompt asking the API to extract the title, authors, and abstract from the markdown text. No extra indications are given to the model.\n",
    "\n"
   ]
  },
  {
   "cell_type": "code",
   "id": "5ae9b2b242da9ab0",
   "metadata": {
    "editable": true,
    "slideshow": {
     "slide_type": "fragment"
    },
    "tags": [],
    "ExecuteTime": {
     "end_time": "2025-03-13T09:26:44.221276Z",
     "start_time": "2025-03-13T09:26:44.218801Z"
    }
   },
   "source": [
    "def generate_completion(message: str):\n",
    "    return client.chat.completions.create(\n",
    "        model=MODEL,\n",
    "        messages=[{\"role\": \"user\", \"content\": message}],\n",
    "    )"
   ],
   "outputs": [],
   "execution_count": 6
  },
  {
   "cell_type": "code",
   "id": "999270a2c5c59884",
   "metadata": {
    "editable": true,
    "slideshow": {
     "slide_type": "fragment"
    },
    "tags": [],
    "ExecuteTime": {
     "end_time": "2025-03-13T09:26:51.108430Z",
     "start_time": "2025-03-13T09:26:44.246169Z"
    }
   },
   "source": [
    "prompt = f\"\"\"\n",
    "You are a document processing assistant. I have extracted the following markdown text from a PDF.\n",
    "Please extract the following details:\n",
    "- Title\n",
    "- Authors\n",
    "- Abstract\n",
    "- DOI (with the link)\n",
    "\n",
    "Markdown text:\n",
    "{markdown_text}\n",
    "\"\"\"\n",
    "\n",
    "completion = generate_completion(prompt)"
   ],
   "outputs": [],
   "execution_count": 7
  },
  {
   "cell_type": "code",
   "id": "2a115d16021b686f",
   "metadata": {
    "editable": true,
    "slideshow": {
     "slide_type": "subslide"
    },
    "tags": [],
    "ExecuteTime": {
     "end_time": "2025-03-13T09:26:51.130911Z",
     "start_time": "2025-03-13T09:26:51.127849Z"
    }
   },
   "source": [
    "print(completion.choices[0].message.content)"
   ],
   "outputs": [
    {
     "name": "stdout",
     "output_type": "stream",
     "text": [
      "Here are the extracted details from the provided markdown text:\n",
      "\n",
      "- **Title:** Explainable machine learning prediction of edema adverse events in patients treated with tepotinib\n",
      "\n",
      "- **Authors:** Federico Amato, Rainer Strotmann, Roberto Castello, Rolf Bruns, Vishal Ghori, Andreas John, Karin Berghoff, Karthik Venkatakrishnan, Nadia Terranova\n",
      "\n",
      "- **Abstract:** Tepotinib is approved for the treatment of patients with non-small-cell lung cancer harboring *MET* exon 14 skipping alterations. While edema is the most prevalent adverse event (AE) and a known class effect of MET inhibitors including tepotinib, there is still limited understanding about the factors contributing to its occurrence. Herein, we apply machine learning (ML)-based approaches to predict the likelihood of occurrence of edema in patients undergoing tepotinib treatment, and to identify factors influencing its development over time. Data from 612 patients receiving tepotinib in five Phase I/II studies were modeled with two ML algorithms, Random Forest, and Gradient Boosting Trees, to predict edema AE incidence and severity. Probability calibration was applied to give a realistic estimation of the likelihood of edema AE. Best model was tested on follow-up data and on data from clinical studies unused while training. Results showed high performances across all the tested settings, with F1 scores up to 0.961 when retraining the model with the most relevant covariates. The use of ML explainability methods identified serum albumin as the most informative longitudinal covariate, and higher age as associated with higher probabilities of more severe edema. The developed methodological framework enables the use of ML algorithms for analyzing clinical safety data and exploiting longitudinal information through various covariate engineering approaches. Probability calibration ensures the accurate estimation of the likelihood of the AE occurrence, while explainability tools can identify factors contributing to model predictions, hence supporting population and individual patient-level interpretation.\n",
      "\n",
      "- **DOI:** [10.1111/cts.70010](https://doi.org/10.1111/cts.70010)\n"
     ]
    }
   ],
   "execution_count": 8
  },
  {
   "cell_type": "markdown",
   "id": "d88809827a33ea91",
   "metadata": {
    "editable": true,
    "slideshow": {
     "slide_type": "fragment"
    },
    "tags": []
   },
   "source": [
    "#### Result\n",
    "\n",
    "We can see here that the LLM model was able to extract the title, authors, and abstract from the markdown text. The result is returned as plain text in a markdown format. This format is not very structured and may require additional processing to extract the information."
   ]
  },
  {
   "cell_type": "markdown",
   "id": "8b3feb7fa15cce91",
   "metadata": {
    "editable": true,
    "slideshow": {
     "slide_type": "slide"
    },
    "tags": []
   },
   "source": [
    "## Asking for JSON format\n",
    "\n",
    "Here we're adding one step more. We're asking the LLM to return the result in JSON format. This way we can have a more structured output and it will be easier to extract the information."
   ]
  },
  {
   "cell_type": "code",
   "id": "dbcfe80fc2bb462d",
   "metadata": {
    "editable": true,
    "slideshow": {
     "slide_type": "fragment"
    },
    "tags": [],
    "ExecuteTime": {
     "end_time": "2025-03-13T09:27:01.391182Z",
     "start_time": "2025-03-13T09:26:51.179507Z"
    }
   },
   "source": [
    "prompt = f\"\"\"\n",
    "You are a document processing assistant. I have extracted the following markdown text from a PDF.\n",
    "Please extract the following details:\n",
    "- Title\n",
    "- Authors\n",
    "- Abstract\n",
    "- DOI (with the link)\n",
    "\n",
    "Markdown text:\n",
    "{markdown_text}\n",
    "\n",
    "Give me the result in JSON format.\n",
    "\"\"\"\n",
    "\n",
    "completion = generate_completion(prompt)"
   ],
   "outputs": [],
   "execution_count": 9
  },
  {
   "cell_type": "code",
   "id": "80a3adde0f32c3dd",
   "metadata": {
    "editable": true,
    "slideshow": {
     "slide_type": "subslide"
    },
    "tags": [],
    "ExecuteTime": {
     "end_time": "2025-03-13T09:27:01.414042Z",
     "start_time": "2025-03-13T09:27:01.411589Z"
    }
   },
   "source": [
    "print(completion.choices[0].message.content)"
   ],
   "outputs": [
    {
     "name": "stdout",
     "output_type": "stream",
     "text": [
      "```json\n",
      "{\n",
      "  \"Title\": \"Explainable machine learning prediction of edema adverse events in patients treated with tepotinib\",\n",
      "  \"Authors\": [\n",
      "    \"Federico Amato\",\n",
      "    \"Rainer Strotmann\",\n",
      "    \"Roberto Castello\",\n",
      "    \"Rolf Bruns\",\n",
      "    \"Vishal Ghori\",\n",
      "    \"Andreas Johne\",\n",
      "    \"Karin Berghoff\",\n",
      "    \"Karthik Venkatakrishnan\",\n",
      "    \"Nadia Terranova\"\n",
      "  ],\n",
      "  \"Abstract\": \"Tepotinib is approved for the treatment of patients with non-small-cell lung cancer harboring MET exon 14 skipping alterations. While edema is the most prevalent adverse event (AE) and a known class effect of MET inhibitors including tepotinib, there is still limited understanding about the factors contributing to its occurrence. Herein, we apply machine learning (ML)-based approaches to predict the likelihood of occurrence of edema in patients undergoing tepotinib treatment, and to identify factors influencing its development over time. Data from 612 patients receiving tepotinib in five Phase I/II studies were modeled with two ML algorithms, Random Forest, and Gradient Boosting Trees, to predict edema AE incidence and severity. Probability calibration was applied to give a realistic estimation of the likelihood of edema AE. Best model was tested on follow-up data and on data from clinical studies unused while training. Results showed high performances across all the tested settings, with F1 scores up to 0.961 when retraining the model with the most relevant covariates. The use of ML explainability methods identified serum albumin as the most informative longitudinal covariate, and higher age as associated with higher probabilities of more severe edema. The developed methodological framework enables the use of ML algorithms for analyzing clinical safety data and exploiting longitudinal information through various covariate engineering approaches. Probability calibration ensures the accurate estimation of the likelihood of the AE occurrence, while explainability tools can identify factors contributing to model predictions, hence supporting population and individual patient-level interpretation.\",\n",
      "  \"DOI\": {\n",
      "    \"link\": \"https://doi.org/10.1111/cts.70010\",\n",
      "    \"text\": \"10.1111/cts.70010\"\n",
      "  }\n",
      "}\n",
      "```\n"
     ]
    }
   ],
   "execution_count": 10
  },
  {
   "cell_type": "code",
   "id": "60b469514bfacb02",
   "metadata": {
    "editable": true,
    "slideshow": {
     "slide_type": "subslide"
    },
    "tags": [],
    "ExecuteTime": {
     "end_time": "2025-03-13T09:27:01.615412Z",
     "start_time": "2025-03-13T09:27:01.439295Z"
    }
   },
   "source": [
    "json.loads(completion.choices[0].message.content)"
   ],
   "outputs": [
    {
     "ename": "JSONDecodeError",
     "evalue": "Expecting value: line 1 column 1 (char 0)",
     "output_type": "error",
     "traceback": [
      "\u001B[31m---------------------------------------------------------------------------\u001B[39m",
      "\u001B[31mJSONDecodeError\u001B[39m                           Traceback (most recent call last)",
      "\u001B[36mCell\u001B[39m\u001B[36m \u001B[39m\u001B[32mIn[11]\u001B[39m\u001B[32m, line 1\u001B[39m\n\u001B[32m----> \u001B[39m\u001B[32m1\u001B[39m \u001B[43mjson\u001B[49m\u001B[43m.\u001B[49m\u001B[43mloads\u001B[49m\u001B[43m(\u001B[49m\u001B[43mcompletion\u001B[49m\u001B[43m.\u001B[49m\u001B[43mchoices\u001B[49m\u001B[43m[\u001B[49m\u001B[32;43m0\u001B[39;49m\u001B[43m]\u001B[49m\u001B[43m.\u001B[49m\u001B[43mmessage\u001B[49m\u001B[43m.\u001B[49m\u001B[43mcontent\u001B[49m\u001B[43m)\u001B[49m\n",
      "\u001B[36mFile \u001B[39m\u001B[32m/Library/Frameworks/Python.framework/Versions/3.11/lib/python3.11/json/__init__.py:346\u001B[39m, in \u001B[36mloads\u001B[39m\u001B[34m(s, cls, object_hook, parse_float, parse_int, parse_constant, object_pairs_hook, **kw)\u001B[39m\n\u001B[32m    341\u001B[39m     s = s.decode(detect_encoding(s), \u001B[33m'\u001B[39m\u001B[33msurrogatepass\u001B[39m\u001B[33m'\u001B[39m)\n\u001B[32m    343\u001B[39m \u001B[38;5;28;01mif\u001B[39;00m (\u001B[38;5;28mcls\u001B[39m \u001B[38;5;129;01mis\u001B[39;00m \u001B[38;5;28;01mNone\u001B[39;00m \u001B[38;5;129;01mand\u001B[39;00m object_hook \u001B[38;5;129;01mis\u001B[39;00m \u001B[38;5;28;01mNone\u001B[39;00m \u001B[38;5;129;01mand\u001B[39;00m\n\u001B[32m    344\u001B[39m         parse_int \u001B[38;5;129;01mis\u001B[39;00m \u001B[38;5;28;01mNone\u001B[39;00m \u001B[38;5;129;01mand\u001B[39;00m parse_float \u001B[38;5;129;01mis\u001B[39;00m \u001B[38;5;28;01mNone\u001B[39;00m \u001B[38;5;129;01mand\u001B[39;00m\n\u001B[32m    345\u001B[39m         parse_constant \u001B[38;5;129;01mis\u001B[39;00m \u001B[38;5;28;01mNone\u001B[39;00m \u001B[38;5;129;01mand\u001B[39;00m object_pairs_hook \u001B[38;5;129;01mis\u001B[39;00m \u001B[38;5;28;01mNone\u001B[39;00m \u001B[38;5;129;01mand\u001B[39;00m \u001B[38;5;129;01mnot\u001B[39;00m kw):\n\u001B[32m--> \u001B[39m\u001B[32m346\u001B[39m     \u001B[38;5;28;01mreturn\u001B[39;00m \u001B[43m_default_decoder\u001B[49m\u001B[43m.\u001B[49m\u001B[43mdecode\u001B[49m\u001B[43m(\u001B[49m\u001B[43ms\u001B[49m\u001B[43m)\u001B[49m\n\u001B[32m    347\u001B[39m \u001B[38;5;28;01mif\u001B[39;00m \u001B[38;5;28mcls\u001B[39m \u001B[38;5;129;01mis\u001B[39;00m \u001B[38;5;28;01mNone\u001B[39;00m:\n\u001B[32m    348\u001B[39m     \u001B[38;5;28mcls\u001B[39m = JSONDecoder\n",
      "\u001B[36mFile \u001B[39m\u001B[32m/Library/Frameworks/Python.framework/Versions/3.11/lib/python3.11/json/decoder.py:337\u001B[39m, in \u001B[36mJSONDecoder.decode\u001B[39m\u001B[34m(self, s, _w)\u001B[39m\n\u001B[32m    332\u001B[39m \u001B[38;5;28;01mdef\u001B[39;00m\u001B[38;5;250m \u001B[39m\u001B[34mdecode\u001B[39m(\u001B[38;5;28mself\u001B[39m, s, _w=WHITESPACE.match):\n\u001B[32m    333\u001B[39m \u001B[38;5;250m    \u001B[39m\u001B[33;03m\"\"\"Return the Python representation of ``s`` (a ``str`` instance\u001B[39;00m\n\u001B[32m    334\u001B[39m \u001B[33;03m    containing a JSON document).\u001B[39;00m\n\u001B[32m    335\u001B[39m \n\u001B[32m    336\u001B[39m \u001B[33;03m    \"\"\"\u001B[39;00m\n\u001B[32m--> \u001B[39m\u001B[32m337\u001B[39m     obj, end = \u001B[38;5;28;43mself\u001B[39;49m\u001B[43m.\u001B[49m\u001B[43mraw_decode\u001B[49m\u001B[43m(\u001B[49m\u001B[43ms\u001B[49m\u001B[43m,\u001B[49m\u001B[43m \u001B[49m\u001B[43midx\u001B[49m\u001B[43m=\u001B[49m\u001B[43m_w\u001B[49m\u001B[43m(\u001B[49m\u001B[43ms\u001B[49m\u001B[43m,\u001B[49m\u001B[43m \u001B[49m\u001B[32;43m0\u001B[39;49m\u001B[43m)\u001B[49m\u001B[43m.\u001B[49m\u001B[43mend\u001B[49m\u001B[43m(\u001B[49m\u001B[43m)\u001B[49m\u001B[43m)\u001B[49m\n\u001B[32m    338\u001B[39m     end = _w(s, end).end()\n\u001B[32m    339\u001B[39m     \u001B[38;5;28;01mif\u001B[39;00m end != \u001B[38;5;28mlen\u001B[39m(s):\n",
      "\u001B[36mFile \u001B[39m\u001B[32m/Library/Frameworks/Python.framework/Versions/3.11/lib/python3.11/json/decoder.py:355\u001B[39m, in \u001B[36mJSONDecoder.raw_decode\u001B[39m\u001B[34m(self, s, idx)\u001B[39m\n\u001B[32m    353\u001B[39m     obj, end = \u001B[38;5;28mself\u001B[39m.scan_once(s, idx)\n\u001B[32m    354\u001B[39m \u001B[38;5;28;01mexcept\u001B[39;00m \u001B[38;5;167;01mStopIteration\u001B[39;00m \u001B[38;5;28;01mas\u001B[39;00m err:\n\u001B[32m--> \u001B[39m\u001B[32m355\u001B[39m     \u001B[38;5;28;01mraise\u001B[39;00m JSONDecodeError(\u001B[33m\"\u001B[39m\u001B[33mExpecting value\u001B[39m\u001B[33m\"\u001B[39m, s, err.value) \u001B[38;5;28;01mfrom\u001B[39;00m\u001B[38;5;250m \u001B[39m\u001B[38;5;28;01mNone\u001B[39;00m\n\u001B[32m    356\u001B[39m \u001B[38;5;28;01mreturn\u001B[39;00m obj, end\n",
      "\u001B[31mJSONDecodeError\u001B[39m: Expecting value: line 1 column 1 (char 0)"
     ]
    }
   ],
   "execution_count": 11
  },
  {
   "cell_type": "markdown",
   "id": "ce8ff68f0d842eed",
   "metadata": {
    "editable": true,
    "slideshow": {
     "slide_type": "subslide"
    },
    "tags": []
   },
   "source": [
    "#### Result\n",
    "\n",
    "The result is not returned in JSON format as requested. The model still returns the information in plain text containing the JSON code. The data is structured as JSON, but it is not returned as a JSON object. We will need to process the text to extract the JSON object."
   ]
  },
  {
   "cell_type": "code",
   "id": "77c6670ee38a3c27",
   "metadata": {
    "editable": true,
    "slideshow": {
     "slide_type": "fragment"
    },
    "tags": [],
    "ExecuteTime": {
     "end_time": "2025-03-13T09:27:10.077769Z",
     "start_time": "2025-03-13T09:27:10.072080Z"
    }
   },
   "source": [
    "# Remove the markdown code block markers\n",
    "json_str = re.sub(r\"^```(?:json)?\\s*\", \"\", completion.choices[0].message.content)\n",
    "json_str = re.sub(r\"\\s*```$\", \"\", json_str)\n",
    "\n",
    "# Parse the JSON string\n",
    "json.loads(json_str)"
   ],
   "outputs": [
    {
     "data": {
      "text/plain": [
       "{'Title': 'Explainable machine learning prediction of edema adverse events in patients treated with tepotinib',\n",
       " 'Authors': ['Federico Amato',\n",
       "  'Rainer Strotmann',\n",
       "  'Roberto Castello',\n",
       "  'Rolf Bruns',\n",
       "  'Vishal Ghori',\n",
       "  'Andreas Johne',\n",
       "  'Karin Berghoff',\n",
       "  'Karthik Venkatakrishnan',\n",
       "  'Nadia Terranova'],\n",
       " 'Abstract': 'Tepotinib is approved for the treatment of patients with non-small-cell lung cancer harboring MET exon 14 skipping alterations. While edema is the most prevalent adverse event (AE) and a known class effect of MET inhibitors including tepotinib, there is still limited understanding about the factors contributing to its occurrence. Herein, we apply machine learning (ML)-based approaches to predict the likelihood of occurrence of edema in patients undergoing tepotinib treatment, and to identify factors influencing its development over time. Data from 612 patients receiving tepotinib in five Phase I/II studies were modeled with two ML algorithms, Random Forest, and Gradient Boosting Trees, to predict edema AE incidence and severity. Probability calibration was applied to give a realistic estimation of the likelihood of edema AE. Best model was tested on follow-up data and on data from clinical studies unused while training. Results showed high performances across all the tested settings, with F1 scores up to 0.961 when retraining the model with the most relevant covariates. The use of ML explainability methods identified serum albumin as the most informative longitudinal covariate, and higher age as associated with higher probabilities of more severe edema. The developed methodological framework enables the use of ML algorithms for analyzing clinical safety data and exploiting longitudinal information through various covariate engineering approaches. Probability calibration ensures the accurate estimation of the likelihood of the AE occurrence, while explainability tools can identify factors contributing to model predictions, hence supporting population and individual patient-level interpretation.',\n",
       " 'DOI': {'link': 'https://doi.org/10.1111/cts.70010',\n",
       "  'text': '10.1111/cts.70010'}}"
      ]
     },
     "execution_count": 12,
     "metadata": {},
     "output_type": "execute_result"
    }
   ],
   "execution_count": 12
  },
  {
   "cell_type": "markdown",
   "id": "1b0bd90c5bab3e50",
   "metadata": {
    "editable": true,
    "slideshow": {
     "slide_type": "slide"
    },
    "tags": []
   },
   "source": [
    "## Enters `response_format`\n",
    "\n",
    "OpenAI allows us to specify the response format to be \"json_object\". This way we can force the model to return the result in JSON format. That way the parsing of the result will be easier."
   ]
  },
  {
   "cell_type": "code",
   "id": "8de4a91849c0e",
   "metadata": {
    "editable": true,
    "slideshow": {
     "slide_type": "fragment"
    },
    "tags": [],
    "ExecuteTime": {
     "end_time": "2025-03-13T09:27:12.799143Z",
     "start_time": "2025-03-13T09:27:12.796587Z"
    }
   },
   "source": [
    "def generate_completion_json(message: str):\n",
    "    return client.chat.completions.create(\n",
    "        model=MODEL,\n",
    "        messages=[{\"role\": \"user\", \"content\": message}],\n",
    "        response_format={\"type\": \"json_object\"},\n",
    "    )"
   ],
   "outputs": [],
   "execution_count": 13
  },
  {
   "cell_type": "code",
   "id": "f50caccb7fb23d65",
   "metadata": {
    "editable": true,
    "slideshow": {
     "slide_type": "fragment"
    },
    "tags": [],
    "ExecuteTime": {
     "end_time": "2025-03-13T09:27:24.175441Z",
     "start_time": "2025-03-13T09:27:13.263332Z"
    }
   },
   "source": [
    "prompt = f\"\"\"\n",
    "You are a document processing assistant. I have extracted the following markdown text from a PDF.\n",
    "Please extract the following details:\n",
    "- Title\n",
    "- Authors\n",
    "- Abstract\n",
    "- DOI (with the link)\n",
    "\n",
    "Markdown text:\n",
    "{markdown_text}\n",
    "\n",
    "Give me the result in JSON format.\n",
    "\"\"\"\n",
    "\n",
    "completion = generate_completion_json(prompt)"
   ],
   "outputs": [],
   "execution_count": 14
  },
  {
   "cell_type": "code",
   "id": "609710ce91bdf3f2",
   "metadata": {
    "editable": true,
    "slideshow": {
     "slide_type": "subslide"
    },
    "tags": [],
    "ExecuteTime": {
     "end_time": "2025-03-13T09:27:24.208440Z",
     "start_time": "2025-03-13T09:27:24.206141Z"
    }
   },
   "source": [
    "print(completion.choices[0].message.content)"
   ],
   "outputs": [
    {
     "name": "stdout",
     "output_type": "stream",
     "text": [
      "{\n",
      "  \"title\": \"Explainable machine learning prediction of edema adverse events in patients treated with tepotinib\",\n",
      "  \"authors\": [\n",
      "    \"Federico Amato\",\n",
      "    \"Rainer Strotmann\",\n",
      "    \"Roberto Castell\",\n",
      "    \"Rolf Bruns\",\n",
      "    \"Vishal Ghori\",\n",
      "    \"Andreas Johne\",\n",
      "    \"Karin Berghoff\",\n",
      "    \"Karthik Venkatakrishnan\",\n",
      "    \"Nadia Terranova\"\n",
      "  ],\n",
      "  \"abstract\": \"Tepotinib is approved for the treatment of patients with non-small-cell lung cancer harboring MET exon 14 skipping alterations. While edema is the most prevalent adverse event (AE) and a known class effect of MET inhibitors including tepotinib, there is still limited understanding about the factors contributing to its occurrence. Herein, we apply machine learning (ML)-based approaches to predict the likelihood of occurrence of edema in patients undergoing tepotinib treatment, and to identify factors influencing its development over time. Data from 612 patients receiving tepotinib in five Phase I/II studies were modeled with two ML algorithms, Random Forest, and Gradient Boosting Trees, to predict edema AE incidence and severity. Probability calibration was applied to give a realistic estimation of the likelihood of edema AE. Best model was tested on follow-up data and on data from clinical studies unused while training. Results showed high performances across all the tested settings, with F1 scores up to 0.961 when retraining the model with the most relevant covariates. The use of ML explainability methods identified serum albumin as the most informative longitudinal covariate, and higher age as associated with higher probabilities of more severe edema. The developed methodological framework enables the use of ML algorithms for analyzing clinical safety data and exploiting longitudinal information through various covariate engineering approaches. Probability calibration ensures the accurate estimation of the likelihood of the AE occurrence, while explainability tools can identify factors contributing to model predictions, hence supporting population and individual patient-level interpretation.\",\n",
      "  \"doi\": {\n",
      "    \"link\": \"https://doi.org/10.1111/cts.70010\",\n",
      "    \"text\": \"10.1111/cts.70010\"\n",
      "  }\n",
      "}\n"
     ]
    }
   ],
   "execution_count": 15
  },
  {
   "cell_type": "code",
   "id": "16e99ecb99b79a0a",
   "metadata": {
    "editable": true,
    "slideshow": {
     "slide_type": "subslide"
    },
    "tags": [],
    "ExecuteTime": {
     "end_time": "2025-03-13T09:27:24.217174Z",
     "start_time": "2025-03-13T09:27:24.213623Z"
    }
   },
   "source": [
    "json.loads(completion.choices[0].message.content)"
   ],
   "outputs": [
    {
     "data": {
      "text/plain": [
       "{'title': 'Explainable machine learning prediction of edema adverse events in patients treated with tepotinib',\n",
       " 'authors': ['Federico Amato',\n",
       "  'Rainer Strotmann',\n",
       "  'Roberto Castell',\n",
       "  'Rolf Bruns',\n",
       "  'Vishal Ghori',\n",
       "  'Andreas Johne',\n",
       "  'Karin Berghoff',\n",
       "  'Karthik Venkatakrishnan',\n",
       "  'Nadia Terranova'],\n",
       " 'abstract': 'Tepotinib is approved for the treatment of patients with non-small-cell lung cancer harboring MET exon 14 skipping alterations. While edema is the most prevalent adverse event (AE) and a known class effect of MET inhibitors including tepotinib, there is still limited understanding about the factors contributing to its occurrence. Herein, we apply machine learning (ML)-based approaches to predict the likelihood of occurrence of edema in patients undergoing tepotinib treatment, and to identify factors influencing its development over time. Data from 612 patients receiving tepotinib in five Phase I/II studies were modeled with two ML algorithms, Random Forest, and Gradient Boosting Trees, to predict edema AE incidence and severity. Probability calibration was applied to give a realistic estimation of the likelihood of edema AE. Best model was tested on follow-up data and on data from clinical studies unused while training. Results showed high performances across all the tested settings, with F1 scores up to 0.961 when retraining the model with the most relevant covariates. The use of ML explainability methods identified serum albumin as the most informative longitudinal covariate, and higher age as associated with higher probabilities of more severe edema. The developed methodological framework enables the use of ML algorithms for analyzing clinical safety data and exploiting longitudinal information through various covariate engineering approaches. Probability calibration ensures the accurate estimation of the likelihood of the AE occurrence, while explainability tools can identify factors contributing to model predictions, hence supporting population and individual patient-level interpretation.',\n",
       " 'doi': {'link': 'https://doi.org/10.1111/cts.70010',\n",
       "  'text': '10.1111/cts.70010'}}"
      ]
     },
     "execution_count": 16,
     "metadata": {},
     "output_type": "execute_result"
    }
   ],
   "execution_count": 16
  },
  {
   "cell_type": "markdown",
   "id": "f108d1e70e12ceb0",
   "metadata": {
    "editable": true,
    "slideshow": {
     "slide_type": "fragment"
    },
    "tags": []
   },
   "source": [
    "#### Result\n",
    "\n",
    "This time the result is returned in JSON format as requested. We can directly parse the JSON object to extract the information using `json.loads()`. However, there is no guarantee that the JSON object will have the expected structure. The model may return the data in a different format than the one we expect for exemple with different casing."
   ]
  },
  {
   "cell_type": "markdown",
   "id": "a8db61eefdd694c1",
   "metadata": {
    "editable": true,
    "slideshow": {
     "slide_type": "slide"
    },
    "tags": []
   },
   "source": [
    "## Custom json schema\n",
    "\n",
    "This time we'll pass a json schema to the model as defined here: https://json-schema.org/. This way we can force the model to return the result in a specific structure, provide default values, descriptions and types for each field.\n"
   ]
  },
  {
   "cell_type": "code",
   "id": "62e79af00e4f478",
   "metadata": {
    "editable": true,
    "slideshow": {
     "slide_type": "fragment"
    },
    "tags": [],
    "ExecuteTime": {
     "end_time": "2025-03-13T09:27:24.253919Z",
     "start_time": "2025-03-13T09:27:24.251259Z"
    }
   },
   "source": [
    "def generate_completion_json_schema(message: str, schema: dict):\n",
    "    return client.chat.completions.create(\n",
    "        model=MODEL,\n",
    "        messages=[{\"role\": \"user\", \"content\": message}],\n",
    "        response_format={\n",
    "            \"type\": \"json_schema\",\n",
    "            \"json_schema\": {\n",
    "                \"name\": \"ExtractedData\",\n",
    "                \"schema\": schema\n",
    "            },\n",
    "        },\n",
    "    )"
   ],
   "outputs": [],
   "execution_count": 17
  },
  {
   "cell_type": "code",
   "id": "9efab2aecdfdd6f5",
   "metadata": {
    "editable": true,
    "slideshow": {
     "slide_type": "fragment"
    },
    "tags": [],
    "ExecuteTime": {
     "end_time": "2025-03-13T09:27:31.843310Z",
     "start_time": "2025-03-13T09:27:24.272548Z"
    }
   },
   "source": [
    "schema = {\n",
    "    \"type\": \"object\",\n",
    "    \"name\": \"ExtractedData\",\n",
    "    \"description\": \"Metadata for a research article including its title, list of authors, and abstract summary.\",\n",
    "    \"properties\": {\n",
    "        \"title\": {\n",
    "            \"type\": \"string\",\n",
    "            \"description\": \"The title of the research article.\",\n",
    "            \"default\": \"Unknown\"\n",
    "        },\n",
    "        \"authors\": {\n",
    "            \"type\": \"array\",\n",
    "            \"items\": {\"type\": \"string\"},\n",
    "            \"description\": \"A list of authors who contributed to the article.\"\n",
    "        },\n",
    "        \"abstract\": {\n",
    "            \"type\": \"string\",\n",
    "            \"description\": \"A brief summary of the article's content and findings.\"\n",
    "        },\n",
    "        \"doi\": {\n",
    "            \"type\": \"object\",\n",
    "            \"description\": \"The DOI of the document.\",\n",
    "            \"properties\": {\n",
    "                \"id\": {\n",
    "                    \"type\": \"string\",\n",
    "                    \"description\": \"The DOI identifier.\",\n",
    "                },\n",
    "                \"link\": {\n",
    "                    \"type\": \"string\",\n",
    "                    \"description\": \"The url corresponding to the DOI.\",\n",
    "                },\n",
    "            }\n",
    "        },\n",
    "    },\n",
    "    \"additionalProperties\": False,\n",
    "}\n",
    "\n",
    "prompt = f\"\"\"\n",
    "You are a document processing assistant. I have extracted the following markdown text from a PDF.\n",
    "Please extract the following details:\n",
    "- Title\n",
    "- Authors\n",
    "- Abstract\n",
    "\n",
    "Markdown text:\n",
    "{markdown_text}\n",
    "\n",
    "Give me the result in JSON format.\n",
    "\"\"\"\n",
    "\n",
    "completion = generate_completion_json_schema(prompt, schema)"
   ],
   "outputs": [],
   "execution_count": 18
  },
  {
   "cell_type": "code",
   "id": "1e6514e766d8ea94",
   "metadata": {
    "editable": true,
    "slideshow": {
     "slide_type": "subslide"
    },
    "tags": [],
    "ExecuteTime": {
     "end_time": "2025-03-13T09:27:31.858838Z",
     "start_time": "2025-03-13T09:27:31.854168Z"
    }
   },
   "source": [
    "json.loads(completion.choices[0].message.content)"
   ],
   "outputs": [
    {
     "data": {
      "text/plain": [
       "{'title': 'Explainable machine learning prediction of edema adverse events in patients treated with tepotinib',\n",
       " 'authors': ['Federico Amato',\n",
       "  'Rainer Strotmann',\n",
       "  'Roberto Castello',\n",
       "  'Rolf Bruns',\n",
       "  'Vishal Ghori',\n",
       "  'Andreas Johne',\n",
       "  'Karin Berghoff',\n",
       "  'Karthik Venkatakrishnan',\n",
       "  'Nadia Terranova'],\n",
       " 'abstract': 'Tepotinib is approved for the treatment of patients with non-small-cell lung cancer harboring MET exon 14 skipping alterations. While edema is the most prevalent adverse event (AE) and a known class effect of MET inhibitors including tepotinib, there is still limited understanding about the factors contributing to its occurrence. Herein, we apply machine learning (ML)-based approaches to predict the likelihood of occurrence of edema in patients undergoing tepotinib treatment, and to identify factors influencing its development over time. Data from 612 patients receiving tepotinib in five Phase I/II studies were modeled with two ML algorithms, Random Forest, and Gradient Boosting Trees, to predict edema AE incidence and severity. Probability calibration was applied to give a realistic estimation of the likelihood of edema AE. Best model was tested on follow-up data and on data from clinical studies unused while training. Results showed high performances across all the tested settings, with F1 scores up to 0.961 when retraining the model with the most relevant covariates. The use of ML explainability methods identified serum albumin as the most informative longitudinal covariate, and higher age as associated with higher probabilities of more severe edema. The developed methodological framework enables the use of ML algorithms for analyzing clinical safety data and exploiting longitudinal information through various covariate engineering approaches. Probability calibration ensures the accurate estimation of the likelihood of the AE occurrence, while explainability tools can identify factors contributing to model predictions, hence supporting population and individual patient-level interpretation.',\n",
       " 'doi': {'id': '10.1111/cts.70010',\n",
       "  'link': 'https://doi.org/10.1111/cts.70010'}}"
      ]
     },
     "execution_count": 19,
     "metadata": {},
     "output_type": "execute_result"
    }
   ],
   "execution_count": 19
  },
  {
   "cell_type": "markdown",
   "id": "92d6b52d-b48e-4a37-87aa-52f4b077d4fc",
   "metadata": {
    "editable": true,
    "slideshow": {
     "slide_type": "fragment"
    },
    "tags": []
   },
   "source": [
    "#### Result\n",
    "\n",
    "Now the output will always correspond to the expected schema. Since everything is provided the model doesn't have to guess the shape or part of the shape of the output."
   ]
  },
  {
   "cell_type": "markdown",
   "id": "f1d130902a04702",
   "metadata": {
    "editable": true,
    "slideshow": {
     "slide_type": "slide"
    },
    "tags": []
   },
   "source": [
    "## Using the Types\n",
    "\n",
    "Alternatively, we can use Pydantic models to define the expected output format (cf. https://docs.pydantic.dev/latest/). This way we can enforce the structure of the output and provide additional type checking. This can be particularly useful when working with APIs that expect a specific format.\n"
   ]
  },
  {
   "cell_type": "code",
   "id": "e7e06a2a2e4112f6",
   "metadata": {
    "editable": true,
    "slideshow": {
     "slide_type": "fragment"
    },
    "tags": [],
    "ExecuteTime": {
     "end_time": "2025-03-13T09:27:45.630472Z",
     "start_time": "2025-03-13T09:27:45.620440Z"
    }
   },
   "source": [
    "class DOIData(BaseModel):\n",
    "    id: str = Field(..., description=\"The DOI identifier.\")\n",
    "    link: str = Field(..., description=\"The url corresponding to the DOI.\")\n",
    "\n",
    "class ExtractedData(BaseModel):\n",
    "    title: str = Field(..., description=\"The title of the research article.\")\n",
    "    authors: List[str] = Field(..., description=\"A list of authors who contributed to the article.\")\n",
    "    abstract: str = Field(..., description=\"A brief summary of the article's content and findings.\")\n",
    "    doi: DOIData = Field(..., description=\"The DOI of the document.\")\n",
    "\n",
    "def generate_completion_pydantic(message: str):\n",
    "    return client.beta.chat.completions.parse(\n",
    "        model=MODEL,\n",
    "        messages=[{\"role\": \"user\", \"content\": message}],\n",
    "        response_format=ExtractedData,\n",
    "    )\n",
    "\n"
   ],
   "outputs": [],
   "execution_count": 20
  },
  {
   "cell_type": "code",
   "id": "b82ba109ab524638",
   "metadata": {
    "editable": true,
    "slideshow": {
     "slide_type": "fragment"
    },
    "tags": [],
    "ExecuteTime": {
     "end_time": "2025-03-13T09:28:01.974792Z",
     "start_time": "2025-03-13T09:27:51.613985Z"
    }
   },
   "source": [
    "prompt = f\"\"\"\n",
    "You are a document processing assistant. I have extracted the following markdown text from a PDF.\n",
    "Please extract the following details:\n",
    "- Title\n",
    "- Authors\n",
    "- Abstract\n",
    "- DOI (with the link)\n",
    "\n",
    "Markdown text:\n",
    "{markdown_text}\n",
    "\"\"\"\n",
    "\n",
    "completion = generate_completion_pydantic(prompt)"
   ],
   "outputs": [],
   "execution_count": 21
  },
  {
   "cell_type": "code",
   "id": "784ad6ac9c8dbe4d",
   "metadata": {
    "editable": true,
    "scrolled": true,
    "slideshow": {
     "slide_type": "subslide"
    },
    "tags": [],
    "ExecuteTime": {
     "end_time": "2025-03-13T09:28:02.010957Z",
     "start_time": "2025-03-13T09:28:02.006123Z"
    }
   },
   "source": [
    "json.loads(completion.choices[0].message.content)"
   ],
   "outputs": [
    {
     "data": {
      "text/plain": [
       "{'title': 'Explainable machine learning prediction of edema adverse events in patients treated with tepotinib',\n",
       " 'authors': ['Federico Amato',\n",
       "  'Rainer Strotmann',\n",
       "  'Roberto Castell',\n",
       "  'Rolf Bruns',\n",
       "  'Vishal Ghori',\n",
       "  'Andreas Johne',\n",
       "  'Karin Berghoff',\n",
       "  'Karthik Venkatakrishnan',\n",
       "  'Nadia Terranova'],\n",
       " 'abstract': 'Tepotinib is approved for the treatment of patients with non-small-cell lung cancer harboring MET exon 14 skipping alterations. While edema is the most prevalent adverse event (AE) and a known class effect of MET inhibitors including tepotinib, there is still limited understanding about the factors contributing to its occurrence. Herein, we apply machine learning (ML)-based approaches to predict the likelihood of occurrence of edema in patients undergoing tepotinib treatment, and to identify factors influencing its development over time. Data from 612 patients receiving tepotinib in five Phase I/II studies were modeled with two ML algorithms, Random Forest, and Gradient Boosting Trees, to predict edema AE incidence and severity. Probability calibration was applied to give a realistic estimation of the likelihood of edema AE. Best model was tested on follow-up data and on data from clinical studies unused while training. Results showed high performances across all the tested settings, with F1 scores up to 0.961 when retraining the model with the most relevant covariates. The use of ML explainability methods identified serum albumin as the most informative longitudinal covariate, and higher age as associated with higher probabilities of more severe edema. The developed methodological framework enables the use of ML algorithms for analyzing clinical safety data and exploiting longitudinal information through various covariate engineering approaches. Probability calibration ensures the accurate estimation of the likelihood of the AE occurrence, while explainability tools can identify factors contributing to model predictions, hence supporting population and individual patient-level interpretation.',\n",
       " 'doi': {'id': '10.1111/cts.70010',\n",
       "  'link': 'https://doi.org/10.1111/cts.70010'}}"
      ]
     },
     "execution_count": 22,
     "metadata": {},
     "output_type": "execute_result"
    }
   ],
   "execution_count": 22
  },
  {
   "cell_type": "markdown",
   "id": "abf79a16b0ddffc6",
   "metadata": {
    "editable": true,
    "slideshow": {
     "slide_type": "slide"
    },
    "tags": []
   },
   "source": [
    "## Function calling\n",
    "\n",
    "Many LLMs don't support the structured output format. In that case you can specify to the llm to call a function to extract the information. This way you can define the function signature and the llm will call the function with the extracted information."
   ]
  },
  {
   "metadata": {},
   "cell_type": "markdown",
   "source": "",
   "id": "73315127b6b45399"
  },
  {
   "cell_type": "code",
   "id": "80aeb79375c8b40b",
   "metadata": {
    "editable": true,
    "slideshow": {
     "slide_type": "fragment"
    },
    "tags": [],
    "ExecuteTime": {
     "end_time": "2025-03-13T09:28:08.308866Z",
     "start_time": "2025-03-13T09:28:08.304511Z"
    }
   },
   "source": [
    "article_extraction_function_description = {\n",
    "    \"type\": \"function\",\n",
    "    \"function\": {\n",
    "        \"name\": \"extract_article_data\",\n",
    "        \"description\": \"Extract article metadata from markdown text.\",\n",
    "        \"parameters\": {\n",
    "            \"type\": \"object\",\n",
    "            \"properties\": {\n",
    "                \"title\": {\n",
    "                    \"type\": \"string\",\n",
    "                    \"description\": \"The title of the research article.\"\n",
    "                },\n",
    "                \"authors\": {\n",
    "                    \"type\": \"array\",\n",
    "                    \"items\": {\"type\": \"string\"},\n",
    "                    \"description\": \"A list of authors who contributed to the article.\"\n",
    "                },\n",
    "                \"abstract\": {\n",
    "                    \"type\": \"string\",\n",
    "                    \"description\": \"A brief summary of the article's content and findings.\"\n",
    "                },\n",
    "                \"doi\": {\n",
    "                    \"type\": \"object\",\n",
    "                    \"properties\": {\n",
    "                        \"id\": {\n",
    "                            \"type\": \"string\",\n",
    "                            \"description\": \"The DOI identifier.\"\n",
    "                        },\n",
    "                        \"link\": {\n",
    "                            \"type\": \"string\",\n",
    "                            \"description\": \"The url corresponding to the DOI.\"\n",
    "                        }\n",
    "                    }\n",
    "                }\n",
    "            },\n",
    "            \"required\": [\"title\", \"authors\", \"abstract\", \"doi\"]\n",
    "        }\n",
    "    }\n",
    "}\n",
    "\n",
    "def generate_completion_tool_calls(message: str):\n",
    "    return client.chat.completions.create(\n",
    "        model=MODEL, \n",
    "        messages=[{\"role\": \"user\", \"content\": message}],\n",
    "        tools=[article_extraction_function_description],\n",
    "        tool_choice=\"auto\",\n",
    "    )"
   ],
   "outputs": [],
   "execution_count": 23
  },
  {
   "cell_type": "code",
   "id": "3b6c433112fd0d0c",
   "metadata": {
    "editable": true,
    "slideshow": {
     "slide_type": "fragment"
    },
    "tags": [],
    "ExecuteTime": {
     "end_time": "2025-03-13T09:28:17.523077Z",
     "start_time": "2025-03-13T09:28:10.403381Z"
    }
   },
   "source": [
    "prompt = f\"\"\"\n",
    "You are a document processing assistant. I have extracted the following markdown text from a PDF.\n",
    "Please use the given tools to extract the following details:\n",
    "- Title\n",
    "- Authors\n",
    "- Abstract\n",
    "- DOI (with the link)\n",
    "\n",
    "Markdown text:\n",
    "{markdown_text}\n",
    "\"\"\"\n",
    "\n",
    "completion = generate_completion_tool_calls(prompt)"
   ],
   "outputs": [],
   "execution_count": 24
  },
  {
   "cell_type": "code",
   "id": "1e81fe16153e3641",
   "metadata": {
    "editable": true,
    "slideshow": {
     "slide_type": "subslide"
    },
    "tags": [],
    "ExecuteTime": {
     "end_time": "2025-03-13T09:28:17.547208Z",
     "start_time": "2025-03-13T09:28:17.543296Z"
    }
   },
   "source": [
    "json.loads(completion.choices[0].message.tool_calls[0].function.arguments)"
   ],
   "outputs": [
    {
     "data": {
      "text/plain": [
       "{'title': 'Explainable machine learning prediction of edema adverse events in patients treated with tepotinib',\n",
       " 'authors': ['Federico Amato',\n",
       "  'Rainer Strotmann',\n",
       "  'Roberto Castello',\n",
       "  'Rolf Bruns',\n",
       "  'Vishal Ghori',\n",
       "  'Andreas Joha',\n",
       "  'Karin Berghoff',\n",
       "  'Karthik Venkatakrishnan',\n",
       "  'Nadia Terranova'],\n",
       " 'abstract': 'Tepotinib is approved for the treatment of patients with non-small-cell lung cancer harboring MET exon 14 skipping alterations. While edema is the most prevalent adverse event (AE) and a known class effect of MET inhibitors including tepotinib, there is still limited understanding about the factors contributing to its occurrence. Herein, we apply machine learning (ML)-based approaches to predict the likelihood of occurrence of edema in patients undergoing tepotinib treatment, and to identify factors influencing its development over time. Data from 612 patients receiving tepotinib in five Phase I/II studies were modeled with two ML algorithms, Random Forest, and Gradient Boosting Trees, to predict edema AE incidence and severity. Probability calibration was applied to give a realistic estimation of the likelihood of edema AE. Best model was tested on follow-up data and on data from clinical studies unused while training. Results showed high performances across all the tested settings, with F1 scores up to 0.961 when retraining the model with the most relevant covariates. The use of ML explainability methods identified serum albumin as the most informative longitudinal covariate, and higher age as associated with higher probabilities of more severe edema. The developed methodological framework enables the use of ML algorithms for analyzing clinical safety data and exploiting longitudinal information through various covariate engineering approaches. Probability calibration ensures the accurate estimation of the likelihood of the AE occurrence, while explainability tools can identify factors contributing to model predictions, hence supporting population and individual patient-level interpretation.',\n",
       " 'doi': {'id': '10.1111/cts.70010',\n",
       "  'link': 'https://doi.org/10.1111/cts.70010'}}"
      ]
     },
     "execution_count": 25,
     "metadata": {},
     "output_type": "execute_result"
    }
   ],
   "execution_count": 25
  },
  {
   "cell_type": "markdown",
   "id": "40cedb74-5c8d-47e2-be6f-c60e640adf92",
   "metadata": {
    "editable": true,
    "slideshow": {
     "slide_type": ""
    },
    "tags": []
   },
   "source": [
    "#### Notes\n",
    "\n",
    "Here you can note that we don't call the functions. The goal is not to use them as a tool call, but as a way of extracting the data from the documents "
   ]
  },
  {
   "cell_type": "markdown",
   "id": "a995dcb724cfc267",
   "metadata": {
    "editable": true,
    "slideshow": {
     "slide_type": "slide"
    },
    "tags": []
   },
   "source": [
    "# Multiple function calls\n",
    "\n",
    "It's important to note that you can ask the llm to call multiple functions to extract the information in the same call. This way you can have a more modular approach to the data extraction.\n",
    "\n",
    "![Tool Calling](../data/tool_calling.png)"
   ]
  },
  {
   "cell_type": "code",
   "id": "9e8c4bc3abaf0fea",
   "metadata": {
    "editable": true,
    "slideshow": {
     "slide_type": "subslide"
    },
    "tags": [],
    "ExecuteTime": {
     "end_time": "2025-03-13T09:28:17.566618Z",
     "start_time": "2025-03-13T09:28:17.561927Z"
    }
   },
   "source": [
    "import json\n",
    "\n",
    "# Define separate function descriptions for each property.\n",
    "title_extraction_function_description = {\n",
    "    \"type\": \"function\",\n",
    "    \"function\": {\n",
    "        \"name\": \"extract_title\",\n",
    "        \"description\": \"Extract the title from markdown text.\",\n",
    "        \"parameters\": {\n",
    "            \"type\": \"object\",\n",
    "            \"properties\": {\n",
    "                \"title\": {\n",
    "                    \"type\": \"string\",\n",
    "                    \"description\": \"The title of the research article.\"\n",
    "                }\n",
    "            },\n",
    "            \"required\": [\"title\"]\n",
    "        }\n",
    "    }\n",
    "}\n",
    "\n",
    "authors_extraction_function_description = {\n",
    "    \"type\": \"function\",\n",
    "    \"function\": {\n",
    "        \"name\": \"extract_authors\",\n",
    "        \"description\": \"Extract the list of authors from markdown text.\",\n",
    "        \"parameters\": {\n",
    "            \"type\": \"object\",\n",
    "            \"properties\": {\n",
    "                \"authors\": {\n",
    "                    \"type\": \"array\",\n",
    "                    \"items\": {\"type\": \"string\"},\n",
    "                    \"description\": \"A list of authors who contributed to the article.\"\n",
    "                }\n",
    "            },\n",
    "            \"required\": [\"authors\"]\n",
    "        }\n",
    "    }\n",
    "}\n",
    "\n",
    "abstract_extraction_function_description = {\n",
    "    \"type\": \"function\",\n",
    "    \"function\": {\n",
    "        \"name\": \"extract_abstract\",\n",
    "        \"description\": \"Extract the abstract from markdown text.\",\n",
    "        \"parameters\": {\n",
    "            \"type\": \"object\",\n",
    "            \"properties\": {\n",
    "                \"abstract\": {\n",
    "                    \"type\": \"string\",\n",
    "                    \"description\": \"A brief summary of the article's content and findings.\"\n",
    "                }\n",
    "            },\n",
    "            \"required\": [\"abstract\"]\n",
    "        }\n",
    "    }\n",
    "}\n",
    "\n",
    "doi_extraction_function_description = {\n",
    "    \"type\": \"function\",\n",
    "    \"function\": {\n",
    "        \"name\": \"extract_doi\",\n",
    "        \"description\": \"Extract the DOI from markdown text.\",\n",
    "        \"parameters\": {\n",
    "            \"type\": \"object\",\n",
    "            \"properties\": {\n",
    "                \"doi\": {\n",
    "                    \"type\": \"object\",\n",
    "                    \"properties\": {\n",
    "                        \"id\": {\n",
    "                            \"type\": \"string\",\n",
    "                            \"description\": \"The DOI identifier.\"\n",
    "                        },\n",
    "                        \"link\": {\n",
    "                            \"type\": \"string\",\n",
    "                            \"description\": \"The url corresponding to the DOI.\"\n",
    "                        }\n",
    "                    }\n",
    "                }\n",
    "            },\n",
    "            \"required\": [\"doi\"]\n",
    "        }\n",
    "    }\n",
    "}\n"
   ],
   "outputs": [],
   "execution_count": 26
  },
  {
   "cell_type": "code",
   "id": "1635be75-f0df-4e0f-807e-7e50c40b85b6",
   "metadata": {
    "editable": true,
    "slideshow": {
     "slide_type": "subslide"
    },
    "tags": [],
    "ExecuteTime": {
     "end_time": "2025-03-13T09:28:17.576407Z",
     "start_time": "2025-03-13T09:28:17.573888Z"
    }
   },
   "source": [
    "def generate_completion_multiple_tool_calls(message: str):\n",
    "    response = client.chat.completions.create(\n",
    "        model=MODEL,\n",
    "        messages=[{\"role\": \"user\", \"content\": message}],\n",
    "        tools=[\n",
    "            title_extraction_function_description,\n",
    "            authors_extraction_function_description,\n",
    "            abstract_extraction_function_description,\n",
    "            doi_extraction_function_description,\n",
    "        ],\n",
    "        tool_choice=\"auto\",\n",
    "    )\n",
    "\n",
    "    # Combine the outputs from each function call.\n",
    "    extracted_data = {}\n",
    "    tool_calls = response.choices[0].message.tool_calls\n",
    "    for tool_call in tool_calls:\n",
    "        function_name = tool_call.function.name\n",
    "        # Parse the JSON string of arguments.\n",
    "        arguments = json.loads(tool_call.function.arguments)\n",
    "        if function_name == \"extract_title\":\n",
    "            extracted_data[\"title\"] = arguments[\"title\"]\n",
    "        elif function_name == \"extract_authors\":\n",
    "            extracted_data[\"authors\"] = arguments[\"authors\"]\n",
    "        elif function_name == \"extract_abstract\":\n",
    "            extracted_data[\"abstract\"] = arguments[\"abstract\"]\n",
    "        elif function_name == \"extract_doi\":\n",
    "            extracted_data[\"doi\"] = arguments[\"doi\"]\n",
    "\n",
    "    return extracted_data"
   ],
   "outputs": [],
   "execution_count": 27
  },
  {
   "cell_type": "code",
   "id": "f3fedf482ed40fb5",
   "metadata": {
    "editable": true,
    "slideshow": {
     "slide_type": "fragment"
    },
    "tags": [],
    "ExecuteTime": {
     "end_time": "2025-03-13T09:28:25.194158Z",
     "start_time": "2025-03-13T09:28:17.580697Z"
    }
   },
   "source": [
    "# Example prompt that provides markdown text.\n",
    "prompt = f\"\"\"\n",
    "You are a document processing assistant. I have extracted the following markdown text from a PDF.\n",
    "Please use the given tools to extract the following details:\n",
    "- Title\n",
    "- Authors\n",
    "- Abstract\n",
    "- DOI (with the link)\n",
    "\n",
    "Markdown text:\n",
    "{markdown_text}\n",
    "\"\"\"\n",
    "\n",
    "extracted_data = generate_completion_multiple_tool_calls(prompt)"
   ],
   "outputs": [],
   "execution_count": 28
  },
  {
   "cell_type": "code",
   "id": "adfd60bb02aa0ca9",
   "metadata": {
    "editable": true,
    "slideshow": {
     "slide_type": "subslide"
    },
    "tags": [],
    "ExecuteTime": {
     "end_time": "2025-03-13T09:28:25.221075Z",
     "start_time": "2025-03-13T09:28:25.217295Z"
    }
   },
   "source": [
    "extracted_data"
   ],
   "outputs": [
    {
     "data": {
      "text/plain": [
       "{'title': 'Explainable machine learning prediction of edema adverse events in patients treated with tepotinib',\n",
       " 'authors': ['Federico Amato',\n",
       "  'Rainer Strotmann',\n",
       "  'Roberto Castello',\n",
       "  'Rolf Bruns',\n",
       "  'Vishal Ghori',\n",
       "  'Andreas Johannes',\n",
       "  'Karin Berghoff',\n",
       "  'Karthik Venkatakrishnan',\n",
       "  'Nadia Terranova'],\n",
       " 'abstract': 'Tepotinib is approved for the treatment of patients with non-small-cell lung cancer harboring MET exon 14 skipping alterations. While edema is the most prevalent adverse event (AE) and a known class effect of MET inhibitors including tepotinib, there is still limited understanding about the factors contributing to its occurrence. Herein, we apply machine learning (ML)-based approaches to predict the likelihood of occurrence of edema in patients undergoing tepotinib treatment, and to identify factors influencing its development over time. Data from 612 patients receiving tepotinib in five Phase I/II studies were modeled with two ML algorithms, Random Forest, and Gradient Boosting Trees, to predict edema AE incidence and severity. Probability calibration was applied to give a realistic estimation of the likelihood of edema AE. Best model was tested on follow-up data and on data from clinical studies unused while training. Results showed high performances across all the tested settings, with F1 scores up to 0.961 when retraining the model with the most relevant covariates. The use of ML explainability methods identified serum albumin as the most informative longitudinal covariate, and higher age as associated with higher probabilities of more severe edema. The developed methodological framework enables the use of ML algorithms for analyzing clinical safety data and exploiting longitudinal information through various covariate engineering approaches. Probability calibration ensures the accurate estimation of the likelihood of the AE occurrence, while explainability tools can identify factors contributing to model predictions, hence supporting population and individual patient-level interpretation.',\n",
       " 'doi': {'id': '10.1111/cts.70010',\n",
       "  'link': 'https://doi.org/10.1111/cts.70010'}}"
      ]
     },
     "execution_count": 29,
     "metadata": {},
     "output_type": "execute_result"
    }
   ],
   "execution_count": 29
  },
  {
   "cell_type": "markdown",
   "id": "49a5e052-a9fd-4e70-bbc2-0acb0d09d6b7",
   "metadata": {
    "editable": true,
    "slideshow": {
     "slide_type": "slide"
    },
    "tags": []
   },
   "source": [
    "## Cost\n",
    "\n",
    "Let's compute the cost of the completion. We'll use the following pricing: https://openai.com/api/pricing/"
   ]
  },
  {
   "cell_type": "code",
   "id": "28d43065fa170603",
   "metadata": {
    "editable": true,
    "slideshow": {
     "slide_type": "fragment"
    },
    "tags": [],
    "ExecuteTime": {
     "end_time": "2025-03-13T09:28:25.234614Z",
     "start_time": "2025-03-13T09:28:25.231565Z"
    }
   },
   "source": [
    "def compute_chatgpt_4o_cost(completion, verbose: bool = False) -> float:\n",
    "    input_tokens = completion.usage.prompt_tokens\n",
    "    output_tokens = completion.usage.completion_tokens\n",
    "\n",
    "    cost_per_1M_input_tokens = 0.15\n",
    "    cost_per_1M_output_tokens = 0.60\n",
    "\n",
    "    total_cost = (input_tokens / 1e6) * cost_per_1M_input_tokens\n",
    "    total_cost += (output_tokens / 1e6) * cost_per_1M_output_tokens\n",
    "\n",
    "    if verbose:\n",
    "        print(f\"Total input tokens: {input_tokens}\")\n",
    "        print(f\"Total output tokens: {output_tokens}\")\n",
    "        print(f\"Total tokens: {input_tokens+output_tokens}\")\n",
    "        print(f\"Estimated cost: ${total_cost:.4f}\")\n",
    "\n",
    "    return total_cost\n"
   ],
   "outputs": [],
   "execution_count": 30
  },
  {
   "cell_type": "code",
   "id": "e6b280d6-cae1-41c2-85e1-65ce975c611f",
   "metadata": {
    "editable": true,
    "slideshow": {
     "slide_type": "subslide"
    },
    "tags": [],
    "ExecuteTime": {
     "end_time": "2025-03-13T09:28:25.252217Z",
     "start_time": "2025-03-13T09:28:25.248700Z"
    }
   },
   "source": [
    "compute_chatgpt_4o_cost(completion, verbose=True)"
   ],
   "outputs": [
    {
     "name": "stdout",
     "output_type": "stream",
     "text": [
      "Total input tokens: 13666\n",
      "Total output tokens: 443\n",
      "Total tokens: 14109\n",
      "Estimated cost: $0.0023\n"
     ]
    },
    {
     "data": {
      "text/plain": [
       "0.0023157"
      ]
     },
     "execution_count": 31,
     "metadata": {},
     "output_type": "execute_result"
    }
   ],
   "execution_count": 31
  },
  {
   "cell_type": "markdown",
   "id": "fc4a8553f3ef6b06",
   "metadata": {
    "editable": true,
    "slideshow": {
     "slide_type": "fragment"
    },
    "tags": []
   },
   "source": [
    "As you can see the major part of the cost is the input tokens. Here we're passing the whole document to the llm which make up for more than 90% of the cost. In the next part we'll see how to reduce the cost by passing only the relevant information to the llm (RAG)."
   ]
  },
  {
   "cell_type": "markdown",
   "id": "75f8a80e-28aa-4b91-adbc-5a0a46cf40b1",
   "metadata": {
    "editable": true,
    "slideshow": {
     "slide_type": "slide"
    },
    "tags": []
   },
   "source": [
    "## Conclusion\n",
    "\n",
    "Structured output help the LLM to produce better and more interpretable results. On the chart below you'll find the relative performances in terms of reliability of the output matching the expected json format."
   ]
  },
  {
   "cell_type": "markdown",
   "id": "2232c3abb0b6a8d1",
   "metadata": {
    "editable": true,
    "slideshow": {
     "slide_type": ""
    },
    "tags": []
   },
   "source": [
    "![output_reliability](../data/output_reliability.png)"
   ]
  },
  {
   "cell_type": "markdown",
   "id": "dd043297d27a185f",
   "metadata": {
    "editable": true,
    "slideshow": {
     "slide_type": "slide"
    },
    "tags": []
   },
   "source": [
    "# Exercises"
   ]
  },
  {
   "cell_type": "markdown",
   "id": "35f5bac63d162b4a",
   "metadata": {
    "editable": true,
    "slideshow": {
     "slide_type": ""
    },
    "tags": []
   },
   "source": [
    "#### Exercise 1: Update the different methods to also extract the DOI\n",
    "\n",
    "Guideline:\n",
    "* Ask for the DOI id with the link.\n"
   ]
  },
  {
   "cell_type": "markdown",
   "id": "b9c19a0ef3e18889",
   "metadata": {
    "editable": true,
    "slideshow": {
     "slide_type": ""
    },
    "tags": []
   },
   "source": [
    "#### Exercise 2: Extract the Bibliography.\n",
    "\n",
    "Guideline:\n",
    "* First define a json schema that will guide the data extraction.\n",
    "* Then define a tool call that will extract the data from one cited paper.\n",
    "* Finally call the tool multiple time and aggregate the results"
   ]
  },
  {
   "metadata": {},
   "cell_type": "markdown",
   "source": [
    "## Solutions\n",
    "\n",
    "#### Exercise 1\n",
    "\n",
    "Solution already added to the code above.\n",
    "\n",
    "#### Exercise 2\n",
    "\n"
   ],
   "id": "67fccc12177c519a"
  },
  {
   "metadata": {
    "ExecuteTime": {
     "end_time": "2025-03-13T09:28:25.278222Z",
     "start_time": "2025-03-13T09:28:25.274713Z"
    }
   },
   "cell_type": "code",
   "source": [
    "bibliography_extraction_function_description = {\n",
    "    \"type\": \"function\",\n",
    "    \"function\": {\n",
    "        \"name\": \"extract_bibliography_item\",\n",
    "        \"description\": \"Extract a single bibliography item from markdown text.\",\n",
    "        \"parameters\": {\n",
    "            \"type\": \"object\",\n",
    "            \"properties\": {\n",
    "                \"title\": {\n",
    "                    \"type\": \"string\",\n",
    "                    \"description\": \"The title of the cited work.\"\n",
    "                },\n",
    "                \"authors\": {\n",
    "                    \"type\": \"array\",\n",
    "                    \"items\": {\n",
    "                        \"type\": \"string\"\n",
    "                    },\n",
    "                    \"description\": \"A list of authors of the cited work.\"\n",
    "                },\n",
    "                \"year\": {\n",
    "                    \"type\": \"integer\",\n",
    "                    \"description\": \"The publication year of the cited work.\"\n",
    "                },\n",
    "                \"doi\": {\n",
    "                    \"type\": \"string\",\n",
    "                    \"description\": \"The DOI (Digital Object Identifier) of the cited work, if available.\"\n",
    "                }\n",
    "            },\n",
    "            \"required\": [\"title\", \"authors\", \"year\"]\n",
    "        }\n",
    "    }\n",
    "}\n"
   ],
   "id": "f8b20b928ffd5538",
   "outputs": [],
   "execution_count": 32
  },
  {
   "metadata": {
    "ExecuteTime": {
     "end_time": "2025-03-13T09:28:25.286472Z",
     "start_time": "2025-03-13T09:28:25.282971Z"
    }
   },
   "cell_type": "code",
   "source": [
    "def generate_completion_multiple_tool_calls(message: str):\n",
    "    response = client.chat.completions.create(\n",
    "        model=MODEL,\n",
    "        messages=[{\"role\": \"user\", \"content\": message}],\n",
    "        tools=[bibliography_extraction_function_description],\n",
    "        tool_choice=\"auto\",\n",
    "    )\n",
    "\n",
    "\n",
    "    extracted_items = []\n",
    "    tool_calls = response.choices[0].message.tool_calls\n",
    "    for tool_call in tool_calls:\n",
    "        function_name = tool_call.function.name\n",
    "        arguments = json.loads(tool_call.function.arguments)\n",
    "\n",
    "        if function_name == \"extract_bibliography_item\":\n",
    "            extracted_items.append(arguments)\n",
    "\n",
    "    return extracted_items\n"
   ],
   "id": "e3c78014c8dbea75",
   "outputs": [],
   "execution_count": 33
  },
  {
   "metadata": {
    "ExecuteTime": {
     "end_time": "2025-03-13T09:29:07.469724Z",
     "start_time": "2025-03-13T09:28:25.637425Z"
    }
   },
   "cell_type": "code",
   "source": [
    "prompt = f\"\"\"\n",
    "You are a document processing assistant. I have extracted the following markdown text from a PDF.\n",
    "Please use the given tools to extract ALL the items of the bibliography\n",
    "\n",
    "Markdown text:\n",
    "{markdown_text}\n",
    "\"\"\"\n",
    "\n",
    "extracted_data = generate_completion_multiple_tool_calls(prompt)"
   ],
   "id": "caa10b5ade6a0b5d",
   "outputs": [],
   "execution_count": 34
  },
  {
   "metadata": {
    "ExecuteTime": {
     "end_time": "2025-03-13T09:29:07.497941Z",
     "start_time": "2025-03-13T09:29:07.491137Z"
    }
   },
   "cell_type": "code",
   "source": "extracted_data",
   "id": "5186fcbda6195622",
   "outputs": [
    {
     "data": {
      "text/plain": [
       "[{'title': 'Drug-disease modeling in the pharmaceutical industry – where mechanistic systems pharmacology and statistical pharmacometrics meet',\n",
       "  'authors': ['Helmlinger G', 'Al-Huniti N', 'Aksenov S'],\n",
       "  'year': 2017},\n",
       " {'title': 'Basic concepts of pharmacokinetic/ pharmacodynamic (PK/PD) modelling',\n",
       "  'authors': ['Meibohm B', 'Dorendorf H'],\n",
       "  'year': 1997},\n",
       " {'title': 'Machine learning in modeling disease trajectory and treatment outcomes: an emerging enabler for model-informed precision medicine',\n",
       "  'authors': ['Terranova N', 'Venkatakrishnan K'],\n",
       "  'year': 2023},\n",
       " {'title': 'Application of machine learning in translational medicine: current status and future opportunities',\n",
       "  'authors': ['Terranova N', 'Venkatakrishnan K', 'Benincosa LJ'],\n",
       "  'year': 2021},\n",
       " {'title': 'Diversity and inclusion in drug development: rethinking intrinsic and extrinsic factors with patient centricity',\n",
       "  'authors': ['Venkatakrishnan K', 'Benincosa LJ'],\n",
       "  'year': 2022},\n",
       " {'title': 'Current status and future directions: the application of artificial intelligence/machine learning for precision medicine',\n",
       "  'authors': ['Naik K', 'Goyal RK', 'Foschini L'],\n",
       "  'year': 2023},\n",
       " {'title': 'Machine Learning – A Probabilistic Perspective',\n",
       "  'authors': ['Murphy KP'],\n",
       "  'year': 2012},\n",
       " {'title': 'Population pharmacokinetic model selection assisted by machine learning',\n",
       "  'authors': ['Sibieude E',\n",
       "   'Khandelwal A',\n",
       "   'Girard P',\n",
       "   'Hesthaven JS',\n",
       "   'Terranova N'],\n",
       "  'year': 2022},\n",
       " {'title': 'Mechanistic models versus machine learning, a fight worth fighting for the biological community?',\n",
       "  'authors': ['Baker RE', 'Peña JM', 'Jayamohan J', 'Jérusalem A'],\n",
       "  'year': 2018},\n",
       " {'title': 'Exposure-response analyses for the MET inhibitor tepotinib including patients in the pivotal VISION trial: support for dosage recommendations',\n",
       "  'authors': ['Xiong W', 'Hietala SF', 'Nyberg J'],\n",
       "  'year': 2022},\n",
       " {'title': 'Vande HGF/SF-met signaling in tumor progression',\n",
       "  'authors': ['Gao CF', 'Woude GF'],\n",
       "  'year': 2005},\n",
       " {'title': 'Vande met, metastasis, motility and more',\n",
       "  'authors': ['Birchmeier C', 'Birchmeier W', 'Gherardi E', 'Woude GF'],\n",
       "  'year': 2003},\n",
       " {'title': 'Tepotinib treatment in patients With MET Exon 14–skipping non–small cell lung cancer: long-term follow-up of the VISION phase 2 nonrandomized clinical trial',\n",
       "  'authors': ['Mazieres J', 'Paik PK', 'Garassino MC'],\n",
       "  'year': 2023},\n",
       " {'title': 'Tepotinib in non-small-cell lung cancer with MET exon 14 skipping mutations',\n",
       "  'authors': ['Paik P', 'Felip E', 'Veillon R'],\n",
       "  'year': 2020},\n",
       " {'title': 'Safety of tepotinib in patients with MET exon 14 skipping NSCLC and recommendations for management',\n",
       "  'authors': ['Veillon R', 'Sakai H', 'Le X'],\n",
       "  'year': 2022},\n",
       " {'title': 'Tepotinib efficacy and safety in patients with MET exon 14 skipping NSCLC: outcomes in patient subgroups from the VISION study with relevance for clinical practice',\n",
       "  'authors': ['Le X', 'Sakai H', 'Felip E'],\n",
       "  'year': 2022},\n",
       " {'title': 'Efficacy of savolitinib vs sunitinib in patients with MET-driven papillary renal cell carcinoma: the SAVOIR phase 3 randomized clinical trial',\n",
       "  'authors': ['Choueiri TK', 'Heng DYC', 'Lee JL'],\n",
       "  'year': 2020},\n",
       " {'title': 'Crizotinib', 'authors': ['Heigener DF', 'Reck M'], 'year': 2018},\n",
       " {'title': 'Why do tree-based models still outperform deep learning on typical tabular data?',\n",
       "  'authors': ['Grinsztajn L', 'Oyallon E', 'Varoquaux G'],\n",
       "  'year': 2022},\n",
       " {'title': 'Pharmacometric modeling and machine learning analyses of prognostic and predictive factors in the JAVELIN gastric 100 phase III trial of avelumab',\n",
       "  'authors': ['Terranova N', 'French J', 'Dai H'],\n",
       "  'year': 2022},\n",
       " {'title': 'Predicting disease activity in patients with multiple sclerosis: an explainable machine-learning approach in the Mavenclad trials',\n",
       "  'authors': ['Basu S',\n",
       "   'Munafo A',\n",
       "   'Ben-Amor AF',\n",
       "   'Roy S',\n",
       "   'Girard P',\n",
       "   'Terranova N'],\n",
       "  'year': 2022},\n",
       " {'title': 'Common Terminology Criteria for Adverse Events (CTCAE) Version 4.0',\n",
       "  'authors': ['National Cancer Institute'],\n",
       "  'year': 2009},\n",
       " {'title': 'Random forests', 'authors': ['Breiman L'], 'year': 2001},\n",
       " {'title': 'Greedy function approximation: a gradient boosting machine',\n",
       "  'authors': ['Friedman JH'],\n",
       "  'year': 2001},\n",
       " {'title': 'Xgboost: extreme gradient boosting',\n",
       "  'authors': ['Chen T', 'He T', 'Benesty M'],\n",
       "  'year': 2015},\n",
       " {'title': 'The Element of Statistical Learning: Data Mining, Interference, and Prediction',\n",
       "  'authors': ['Hastie T', 'Tibshirani R', 'Friedman J'],\n",
       "  'year': 2009},\n",
       " {'title': 'A systematic analysis of performance measures for classification tasks',\n",
       "  'authors': ['Sokolova M', 'Lapalme G'],\n",
       "  'year': 2009},\n",
       " {'title': 'Transforming classifier scores into accurate multiclass probability estimates',\n",
       "  'authors': ['Zadrozny B', 'Elkan C'],\n",
       "  'year': 2002},\n",
       " {'title': 'A unified approach to interpreting model predictions',\n",
       "  'authors': ['Lundberg SM', 'Lee SI'],\n",
       "  'year': 2017},\n",
       " {'title': 'Application of SHAP values for inferring the optimal functional form of covariates in pharmacokinetic modeling',\n",
       "  'authors': ['Janssen A', 'Hoogendoorn M', 'Cnossen MH', 'Mathôt RAA'],\n",
       "  'year': 2022},\n",
       " {'title': 'Capmatinib in MET exon 14–mutated or MET-amplified non–small-cell lung cancer',\n",
       "  'authors': ['Wolf J', 'Seto T', 'Han J-Y'],\n",
       "  'year': 2020},\n",
       " {'title': 'Role of c-met/phosphatidylinositol 3-kinase (PI3k)/Akt signaling in hepatocyte growth factor (HGF)-mediated Lamellipodia formation, reactive oxygen species (ROS) generation, and motility of lung endothelial cells',\n",
       "  'authors': ['Usatyuk PV', 'Fu P', 'Mohan V'],\n",
       "  'year': 2014},\n",
       " {'title': 'Hepatocyte growth factor enhances the barrier function in primary cultures of rat brain microvascular endothelial cells',\n",
       "  'authors': ['Yamada N', 'Nakagawa S', 'Horai S'],\n",
       "  'year': 2014},\n",
       " {'title': 'Safety of onartuzumab in patients with solid tumors: experience to date from the onartuzumab clinical trial program',\n",
       "  'authors': ['Morley R', 'Cardenas A', 'Hawkins P'],\n",
       "  'year': 2015},\n",
       " {'title': 'A Pharmacodynamic/ pharmacokinetic study of ficlatuzumab in patients with advanced solid tumors and liver metastases',\n",
       "  'authors': ['Tabernero J', 'Elez ME', 'Herranz M'],\n",
       "  'year': 2014},\n",
       " {'title': 'Tepotinib exposureresponse analyses of safety and efficacy in patients with solid tumours',\n",
       "  'authors': ['Paik P', 'Xiong W', 'Hietala SF'],\n",
       "  'year': 2020},\n",
       " {'title': 'Tepotinib: guidance for oncology nurses on management of adverse events in patients with MET exon 14 skipping nonsmall-cell lung cancer',\n",
       "  'authors': ['Ahn L', 'Alexander T', 'Vlassak S', 'Berghoff K', 'Lemmens L'],\n",
       "  'year': 2022},\n",
       " {'title': 'Modified isotonic regression based phase I/II clinical trial design identifying optimal biological dose',\n",
       "  'authors': ['Qiu Y', 'Zhao Y', 'Liu H', 'Cao S', 'Zhang C', 'Zang Y'],\n",
       "  'year': 2023},\n",
       " {'title': 'Applying probability calibration to ensemble methods to predict 2-year mortality in patients with DLBCL',\n",
       "  'authors': ['Fan S', 'Zhao Z', 'Yu H'],\n",
       "  'year': 2021},\n",
       " {'title': 'First-in-man phase I trial of the selective MET inhibitor tepotinib in patients with advanced solid tumors',\n",
       "  'authors': ['Falchook GS', 'Kurzrock R', 'Amin HM'],\n",
       "  'year': 2020},\n",
       " {'title': 'Phase I trial of the MET inhibitor tepotinib in Japanese patients with solid tumors',\n",
       "  'authors': ['Shitara K', 'Yamazaki K', 'Tsushima T'],\n",
       "  'year': 2020},\n",
       " {'title': 'Phase 1b/2 trial of tepotinib in sorafenib pretreated advanced hepatocellular carcinoma with MET overexpression',\n",
       "  'authors': ['Decaens T', 'Barone C', 'Assenat E'],\n",
       "  'year': 2021},\n",
       " {'title': 'Randomised phase 1b/2 trial of tepotinib vs sorafenib in Asian patients with advanced hepatocellular carcinoma with MET overexpression',\n",
       "  'authors': ['Ryoo B-Y', 'Cheng A-L', 'Ren Z'],\n",
       "  'year': 2021}]"
      ]
     },
     "execution_count": 35,
     "metadata": {},
     "output_type": "execute_result"
    }
   ],
   "execution_count": 35
  }
 ],
 "metadata": {
  "kernelspec": {
   "display_name": "Python 3 (ipykernel)",
   "language": "python",
   "name": "python3"
  },
  "language_info": {
   "codemirror_mode": {
    "name": "ipython",
    "version": 3
   },
   "file_extension": ".py",
   "mimetype": "text/x-python",
   "name": "python",
   "nbconvert_exporter": "python",
   "pygments_lexer": "ipython3",
   "version": "3.11.6"
  }
 },
 "nbformat": 4,
 "nbformat_minor": 5
}
