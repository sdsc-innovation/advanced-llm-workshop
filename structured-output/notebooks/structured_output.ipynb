{
 "cells": [
  {
   "cell_type": "markdown",
   "id": "cce52a519fcb861f",
   "metadata": {
    "editable": true,
    "slideshow": {
     "slide_type": "slide"
    },
    "tags": []
   },
   "source": [
    "# LLM and data extraction\n",
    "\n",
    "In this notebook, we will explore how to use the OpenAI API to extract metadata from scientific papers. We will use a PDF file as input and convert it to markdown text. Then, we will use the OpenAI API to extract the title, authors, and abstract from the markdown text.\n",
    "\n",
    "We will compare different methods to extract metadata from scientific papers using the OpenAI API, including:\n",
    "- Asking the API to extract the metadata directly from the markdown text.\n",
    "- Asking the API to extract the metadata and return the result in JSON format.\n",
    "- Using a JSON schema to define the expected output format.\n",
    "- Using Pydantic models to define the expected output format.\n",
    "- Using function calls to extract metadata from the markdown text.\n",
    "\n",
    "In all the following exemple we'll extract the same information on all these articles:\n",
    "- Title\n",
    "- Authors\n",
    "- Abstract"
   ]
  },
  {
   "cell_type": "markdown",
   "id": "2696f294-70e8-42e3-a5aa-a70ebb3fc22b",
   "metadata": {
    "editable": true,
    "slideshow": {
     "slide_type": "subslide"
    },
    "tags": []
   },
   "source": [
    "## Why JSON?\n",
    "\n",
    "- **Interoperability**: JSON is language-agnostic and easily parsed in Python, R, and other languages.\n",
    "- **API Integration**: Many data sources and web services provide data in JSON format, making it essential for fetching and processing external data.\n",
    "- **Hierarchical Structure**: Supports nested data, making it ideal for representing complex datasets like configurations or structured logs.\n",
    "- **Integration with Pandas**: Python's `pandas` library provides seamless methods (`pd.read_json`, `to_json`) for handling JSON data."
   ]
  },
  {
   "cell_type": "markdown",
   "id": "8c27ff0b356d5754",
   "metadata": {
    "editable": true,
    "slideshow": {
     "slide_type": "slide"
    },
    "tags": []
   },
   "source": [
    "## Initialize the OpenAI client and load the libraries"
   ]
  },
  {
   "cell_type": "code",
   "id": "c8436326871e6351",
   "metadata": {
    "editable": true,
    "slideshow": {
     "slide_type": "skip"
    },
    "tags": []
   },
   "source": [
    "!pip install -r requirements.txt"
   ],
   "outputs": [],
   "execution_count": null
  },
  {
   "cell_type": "code",
   "id": "553e1171e3d7920",
   "metadata": {
    "editable": true,
    "slideshow": {
     "slide_type": "fragment"
    },
    "tags": []
   },
   "source": [
    "import json\n",
    "import re\n",
    "import pymupdf4llm\n",
    "import os\n",
    "import getpass\n",
    "\n",
    "from pydantic import BaseModel, Field\n",
    "from typing import List\n",
    "\n",
    "from openai import OpenAI\n",
    "\n",
    "from src.pdf_extraction_api import PDFExtractorAPI"
   ],
   "outputs": [],
   "execution_count": null
  },
  {
   "cell_type": "code",
   "id": "1eb3f67bcdd61fce",
   "metadata": {
    "editable": true,
    "slideshow": {
     "slide_type": "fragment"
    },
    "tags": []
   },
   "source": [
    "os.environ[\"OPENAI_API_KEY\"] = getpass.getpass()"
   ],
   "outputs": [],
   "execution_count": null
  },
  {
   "cell_type": "code",
   "id": "48713877fe6308ba",
   "metadata": {
    "editable": true,
    "slideshow": {
     "slide_type": "fragment"
    },
    "tags": []
   },
   "source": [
    "client = OpenAI()\n",
    "MODEL=\"gpt-4o-mini\""
   ],
   "outputs": [],
   "execution_count": null
  },
  {
   "cell_type": "markdown",
   "id": "8fa4dc7653db9f64",
   "metadata": {
    "editable": true,
    "slideshow": {
     "slide_type": "slide"
    },
    "tags": []
   },
   "source": [
    "## Load pdf and convert to markdown\n",
    "\n",
    "Here we're using the `pymupdf4llm` library to convert a PDF file to markdown. There are other alternatives such as `textract` and `docling` that can be used to extract text from PDF files. After the workshop feel free to try different libraries and compare the results.\n",
    "\n",
    "We downloaded 2 articles from Pubmed to showcase the process of data extraction. Feel free to try both articles and compare the results."
   ]
  },
  {
   "cell_type": "code",
   "id": "9d9992e9fdc0a91f",
   "metadata": {
    "editable": true,
    "slideshow": {
     "slide_type": "fragment"
    },
    "tags": []
   },
   "source": [
    "# Load the PDF file\n",
    "pdf_path = \"../data/Explainable_machine_learning_prediction_of_edema_a.pdf\"\n",
    "# pdf_path = \"../data/Modeling tumor size dynamics based on real‐world electronic health records.pdf\"\n",
    "\n",
    "# Convert the PDF file to markdown\n",
    "# markdown_text = pymupdf4llm.to_markdown(pdf_path)\n",
    "\n",
    "data_extractor = PDFExtractorAPI()\n",
    "_, markdown_text, _ = data_extractor.extract_text_and_images(pdf_path)"
   ],
   "outputs": [],
   "execution_count": null
  },
  {
   "cell_type": "code",
   "id": "ff74d0515a77808b",
   "metadata": {
    "editable": true,
    "scrolled": true,
    "slideshow": {
     "slide_type": "subslide"
    },
    "tags": []
   },
   "source": [
    "print(markdown_text[:10000])"
   ],
   "outputs": [],
   "execution_count": null
  },
  {
   "cell_type": "markdown",
   "id": "c8e4c924c9414ed7",
   "metadata": {
    "editable": true,
    "slideshow": {
     "slide_type": "slide"
    },
    "tags": []
   },
   "source": [
    "## Default extraction\n",
    "\n",
    "In this case, we will provide a prompt asking the API to extract the title, authors, and abstract from the markdown text. No extra indications are given to the model.\n",
    "\n"
   ]
  },
  {
   "cell_type": "code",
   "id": "5ae9b2b242da9ab0",
   "metadata": {
    "editable": true,
    "slideshow": {
     "slide_type": "fragment"
    },
    "tags": []
   },
   "source": [
    "def generate_completion(message: str):\n",
    "    return client.chat.completions.create(\n",
    "        model=MODEL,\n",
    "        messages=[{\"role\": \"user\", \"content\": message}],\n",
    "    )"
   ],
   "outputs": [],
   "execution_count": null
  },
  {
   "cell_type": "code",
   "id": "999270a2c5c59884",
   "metadata": {
    "editable": true,
    "slideshow": {
     "slide_type": "fragment"
    },
    "tags": []
   },
   "source": [
    "prompt = f\"\"\"\n",
    "You are a document processing assistant. I have extracted the following markdown text from a PDF.\n",
    "Please extract the following details:\n",
    "- Title\n",
    "- Authors\n",
    "- Abstract\n",
    "\n",
    "Markdown text:\n",
    "{markdown_text}\n",
    "\"\"\"\n",
    "\n",
    "completion = generate_completion(prompt)"
   ],
   "outputs": [],
   "execution_count": null
  },
  {
   "cell_type": "code",
   "id": "2a115d16021b686f",
   "metadata": {
    "editable": true,
    "slideshow": {
     "slide_type": "subslide"
    },
    "tags": []
   },
   "source": [
    "print(completion.choices[0].message.content)"
   ],
   "outputs": [],
   "execution_count": null
  },
  {
   "cell_type": "markdown",
   "id": "d88809827a33ea91",
   "metadata": {
    "editable": true,
    "slideshow": {
     "slide_type": "fragment"
    },
    "tags": []
   },
   "source": [
    "#### Result\n",
    "\n",
    "We can see here that the LLM model was able to extract the title, authors, and abstract from the markdown text. The result is returned as plain text in a markdown format. This format is not very structured and may require additional processing to extract the information."
   ]
  },
  {
   "cell_type": "markdown",
   "id": "8b3feb7fa15cce91",
   "metadata": {
    "editable": true,
    "slideshow": {
     "slide_type": "slide"
    },
    "tags": []
   },
   "source": [
    "## Asking for JSON format\n",
    "\n",
    "Here we're adding one step more. We're asking the LLM to return the result in JSON format. This way we can have a more structured output and it will be easier to extract the information."
   ]
  },
  {
   "cell_type": "code",
   "id": "dbcfe80fc2bb462d",
   "metadata": {
    "editable": true,
    "slideshow": {
     "slide_type": "fragment"
    },
    "tags": []
   },
   "source": [
    "prompt = f\"\"\"\n",
    "You are a document processing assistant. I have extracted the following markdown text from a PDF.\n",
    "Please extract the following details:\n",
    "- Title\n",
    "- Authors\n",
    "- Abstract\n",
    "\n",
    "Markdown text:\n",
    "{markdown_text}\n",
    "\n",
    "Give me the result in JSON format.\n",
    "\"\"\"\n",
    "\n",
    "completion = generate_completion(prompt)"
   ],
   "outputs": [],
   "execution_count": null
  },
  {
   "cell_type": "code",
   "id": "80a3adde0f32c3dd",
   "metadata": {
    "editable": true,
    "slideshow": {
     "slide_type": "subslide"
    },
    "tags": []
   },
   "source": [
    "print(completion.choices[0].message.content)"
   ],
   "outputs": [],
   "execution_count": null
  },
  {
   "cell_type": "code",
   "id": "60b469514bfacb02",
   "metadata": {
    "editable": true,
    "slideshow": {
     "slide_type": "subslide"
    },
    "tags": []
   },
   "source": [
    "json.loads(completion.choices[0].message.content)"
   ],
   "outputs": [],
   "execution_count": null
  },
  {
   "cell_type": "markdown",
   "id": "ce8ff68f0d842eed",
   "metadata": {
    "editable": true,
    "slideshow": {
     "slide_type": "subslide"
    },
    "tags": []
   },
   "source": [
    "#### Result\n",
    "\n",
    "The result is not returned in JSON format as requested. The model still returns the information in plain text containing the JSON code. The data is structured as JSON, but it is not returned as a JSON object. We will need to process the text to extract the JSON object."
   ]
  },
  {
   "cell_type": "code",
   "id": "77c6670ee38a3c27",
   "metadata": {
    "editable": true,
    "slideshow": {
     "slide_type": "fragment"
    },
    "tags": []
   },
   "source": [
    "# Remove the markdown code block markers\n",
    "json_str = re.sub(r\"^```(?:json)?\\s*\", \"\", completion.choices[0].message.content)\n",
    "json_str = re.sub(r\"\\s*```$\", \"\", json_str)\n",
    "\n",
    "# Parse the JSON string\n",
    "json.loads(json_str)"
   ],
   "outputs": [],
   "execution_count": null
  },
  {
   "cell_type": "markdown",
   "id": "1b0bd90c5bab3e50",
   "metadata": {
    "editable": true,
    "slideshow": {
     "slide_type": "slide"
    },
    "tags": []
   },
   "source": [
    "## Enters `response_format`\n",
    "\n",
    "OpenAI allows us to specify the response format to be \"json_object\". This way we can force the model to return the result in JSON format. That way the parsing of the result will be easier."
   ]
  },
  {
   "cell_type": "code",
   "id": "8de4a91849c0e",
   "metadata": {
    "editable": true,
    "slideshow": {
     "slide_type": "fragment"
    },
    "tags": []
   },
   "source": [
    "def generate_completion_json(message: str):\n",
    "    return client.chat.completions.create(\n",
    "        model=MODEL,\n",
    "        messages=[{\"role\": \"user\", \"content\": message}],\n",
    "        response_format={\"type\": \"json_object\"},\n",
    "    )"
   ],
   "outputs": [],
   "execution_count": null
  },
  {
   "cell_type": "code",
   "id": "f50caccb7fb23d65",
   "metadata": {
    "editable": true,
    "slideshow": {
     "slide_type": "fragment"
    },
    "tags": []
   },
   "source": [
    "prompt = f\"\"\"\n",
    "You are a document processing assistant. I have extracted the following markdown text from a PDF.\n",
    "Please extract the following details:\n",
    "- Title\n",
    "- Authors\n",
    "- Abstract\n",
    "\n",
    "Markdown text:\n",
    "{markdown_text}\n",
    "\n",
    "Give me the result in JSON format.\n",
    "\"\"\"\n",
    "\n",
    "completion = generate_completion_json(prompt)"
   ],
   "outputs": [],
   "execution_count": null
  },
  {
   "cell_type": "code",
   "id": "609710ce91bdf3f2",
   "metadata": {
    "editable": true,
    "slideshow": {
     "slide_type": "subslide"
    },
    "tags": []
   },
   "source": [
    "print(completion.choices[0].message.content)"
   ],
   "outputs": [],
   "execution_count": null
  },
  {
   "cell_type": "code",
   "id": "16e99ecb99b79a0a",
   "metadata": {
    "editable": true,
    "slideshow": {
     "slide_type": "subslide"
    },
    "tags": []
   },
   "source": [
    "json.loads(completion.choices[0].message.content)"
   ],
   "outputs": [],
   "execution_count": null
  },
  {
   "cell_type": "markdown",
   "id": "f108d1e70e12ceb0",
   "metadata": {
    "editable": true,
    "slideshow": {
     "slide_type": "fragment"
    },
    "tags": []
   },
   "source": [
    "#### Result\n",
    "\n",
    "This time the result is returned in JSON format as requested. We can directly parse the JSON object to extract the information using `json.loads()`. However, there is no guarantee that the JSON object will have the expected structure. The model may return the data in a different format than the one we expect for exemple with different casing."
   ]
  },
  {
   "cell_type": "markdown",
   "id": "a8db61eefdd694c1",
   "metadata": {
    "editable": true,
    "slideshow": {
     "slide_type": "slide"
    },
    "tags": []
   },
   "source": [
    "## Custom json schema\n",
    "\n",
    "This time we'll pass a json schema to the model as defined here: https://json-schema.org/. This way we can force the model to return the result in a specific structure, provide default values, descriptions and types for each field.\n"
   ]
  },
  {
   "cell_type": "code",
   "id": "62e79af00e4f478",
   "metadata": {
    "editable": true,
    "slideshow": {
     "slide_type": "fragment"
    },
    "tags": []
   },
   "source": [
    "def generate_completion_json_schema(message: str, schema: dict):\n",
    "    return client.chat.completions.create(\n",
    "        model=MODEL,\n",
    "        messages=[{\"role\": \"user\", \"content\": message}],\n",
    "        response_format={\n",
    "            \"type\": \"json_schema\",\n",
    "            \"json_schema\": {\n",
    "                \"name\": \"ExtractedData\",\n",
    "                \"schema\": schema\n",
    "            },\n",
    "        },\n",
    "    )"
   ],
   "outputs": [],
   "execution_count": null
  },
  {
   "cell_type": "code",
   "id": "9efab2aecdfdd6f5",
   "metadata": {
    "editable": true,
    "slideshow": {
     "slide_type": "fragment"
    },
    "tags": []
   },
   "source": [
    "schema = {\n",
    "    \"type\": \"object\",\n",
    "    \"name\": \"ExtractedData\",\n",
    "    \"description\": \"Metadata for a research article including its title, list of authors, and abstract summary.\",\n",
    "    \"properties\": {\n",
    "        \"title\": {\n",
    "            \"type\": \"string\",\n",
    "            \"description\": \"The title of the research article.\",\n",
    "            \"default\": \"Unknown\"\n",
    "        },\n",
    "        \"authors\": {\n",
    "            \"type\": \"array\",\n",
    "            \"items\": {\"type\": \"string\"},\n",
    "            \"description\": \"A list of authors who contributed to the article.\"\n",
    "        },\n",
    "        \"abstract\": {\n",
    "            \"type\": \"string\",\n",
    "            \"description\": \"A brief summary of the article's content and findings.\"\n",
    "        },\n",
    "    },\n",
    "    \"additionalProperties\": False,\n",
    "}\n",
    "\n",
    "prompt = f\"\"\"\n",
    "You are a document processing assistant. I have extracted the following markdown text from a PDF.\n",
    "Please extract the following details:\n",
    "- Title\n",
    "- Authors\n",
    "- Abstract\n",
    "\n",
    "Markdown text:\n",
    "{markdown_text}\n",
    "\n",
    "Give me the result in JSON format.\n",
    "\"\"\"\n",
    "\n",
    "completion = generate_completion_json_schema(prompt, schema)"
   ],
   "outputs": [],
   "execution_count": null
  },
  {
   "cell_type": "code",
   "id": "1e6514e766d8ea94",
   "metadata": {
    "editable": true,
    "slideshow": {
     "slide_type": "subslide"
    },
    "tags": []
   },
   "source": [
    "json.loads(completion.choices[0].message.content)"
   ],
   "outputs": [],
   "execution_count": null
  },
  {
   "cell_type": "markdown",
   "id": "92d6b52d-b48e-4a37-87aa-52f4b077d4fc",
   "metadata": {
    "editable": true,
    "slideshow": {
     "slide_type": "fragment"
    },
    "tags": []
   },
   "source": [
    "#### Result\n",
    "\n",
    "Now the output will always correspond to the expected schema. Since everything is provided the model doesn't have to guess the shape or part of the shape of the output."
   ]
  },
  {
   "cell_type": "markdown",
   "id": "f1d130902a04702",
   "metadata": {
    "editable": true,
    "slideshow": {
     "slide_type": "slide"
    },
    "tags": []
   },
   "source": [
    "## Using the Types\n",
    "\n",
    "Alternatively, we can use Pydantic models to define the expected output format (cf. https://docs.pydantic.dev/latest/). This way we can enforce the structure of the output and provide additional type checking. This can be particularly useful when working with APIs that expect a specific format.\n"
   ]
  },
  {
   "cell_type": "code",
   "id": "e7e06a2a2e4112f6",
   "metadata": {
    "editable": true,
    "slideshow": {
     "slide_type": "fragment"
    },
    "tags": []
   },
   "source": [
    "class ExtractedData(BaseModel):\n",
    "    title: str = Field(..., description=\"The title of the research article.\")\n",
    "    authors: List[str] = Field(..., description=\"A list of authors who contributed to the article.\")\n",
    "    abstract: str = Field(..., description=\"A brief summary of the article's content and findings.\")\n",
    "\n",
    "def generate_completion_pydantic(message: str):\n",
    "    return client.beta.chat.completions.parse(\n",
    "        model=MODEL,\n",
    "        messages=[{\"role\": \"user\", \"content\": message}],\n",
    "        response_format=ExtractedData,\n",
    "    )\n",
    "\n"
   ],
   "outputs": [],
   "execution_count": null
  },
  {
   "cell_type": "code",
   "id": "b82ba109ab524638",
   "metadata": {
    "editable": true,
    "slideshow": {
     "slide_type": "fragment"
    },
    "tags": []
   },
   "source": [
    "prompt = f\"\"\"\n",
    "You are a document processing assistant. I have extracted the following markdown text from a PDF.\n",
    "Please extract the following details:\n",
    "- Title\n",
    "- Authors\n",
    "- Abstract\n",
    "\n",
    "Markdown text:\n",
    "{markdown_text}\n",
    "\"\"\"\n",
    "\n",
    "completion = generate_completion_pydantic(prompt)"
   ],
   "outputs": [],
   "execution_count": null
  },
  {
   "cell_type": "code",
   "id": "784ad6ac9c8dbe4d",
   "metadata": {
    "editable": true,
    "scrolled": true,
    "slideshow": {
     "slide_type": "subslide"
    },
    "tags": []
   },
   "source": [
    "json.loads(completion.choices[0].message.content)"
   ],
   "outputs": [],
   "execution_count": null
  },
  {
   "cell_type": "markdown",
   "id": "abf79a16b0ddffc6",
   "metadata": {
    "editable": true,
    "slideshow": {
     "slide_type": "slide"
    },
    "tags": []
   },
   "source": [
    "## Function calling\n",
    "\n",
    "Many LLMs don't support the structured output format. In that case you can specify to the llm to call a function to extract the information. This way you can define the function signature and the llm will call the function with the extracted information."
   ]
  },
  {
   "metadata": {},
   "cell_type": "markdown",
   "source": "",
   "id": "73315127b6b45399"
  },
  {
   "cell_type": "code",
   "id": "80aeb79375c8b40b",
   "metadata": {
    "editable": true,
    "slideshow": {
     "slide_type": "fragment"
    },
    "tags": []
   },
   "source": [
    "article_extraction_function_description = {\n",
    "    \"type\": \"function\",\n",
    "    \"function\": {\n",
    "        \"name\": \"extract_article_data\",\n",
    "        \"description\": \"Extract article metadata from markdown text.\",\n",
    "        \"parameters\": {\n",
    "            \"type\": \"object\",\n",
    "            \"properties\": {\n",
    "                \"title\": {\n",
    "                    \"type\": \"string\",\n",
    "                    \"description\": \"The title of the research article.\"\n",
    "                },\n",
    "                \"authors\": {\n",
    "                    \"type\": \"array\",\n",
    "                    \"items\": {\"type\": \"string\"},\n",
    "                    \"description\": \"A list of authors who contributed to the article.\"\n",
    "                },\n",
    "                \"abstract\": {\n",
    "                    \"type\": \"string\",\n",
    "                    \"description\": \"A brief summary of the article's content and findings.\"\n",
    "                }\n",
    "            },\n",
    "            \"required\": [\"title\", \"authors\", \"abstract\"]\n",
    "        }\n",
    "    }\n",
    "}\n",
    "\n",
    "def generate_completion_tool_calls(message: str):\n",
    "    return client.chat.completions.create(\n",
    "        model=MODEL, \n",
    "        messages=[{\"role\": \"user\", \"content\": message}],\n",
    "        tools=[article_extraction_function_description],\n",
    "        tool_choice=\"auto\",\n",
    "    )"
   ],
   "outputs": [],
   "execution_count": null
  },
  {
   "cell_type": "code",
   "id": "3b6c433112fd0d0c",
   "metadata": {
    "editable": true,
    "slideshow": {
     "slide_type": "fragment"
    },
    "tags": []
   },
   "source": [
    "prompt = f\"\"\"\n",
    "You are a document processing assistant. I have extracted the following markdown text from a PDF.\n",
    "Please use the given tools to extract the following details:\n",
    "- Title\n",
    "- Authors\n",
    "- Abstract\n",
    "\n",
    "Markdown text:\n",
    "{markdown_text}\n",
    "\"\"\"\n",
    "\n",
    "completion = generate_completion_tool_calls(prompt)"
   ],
   "outputs": [],
   "execution_count": null
  },
  {
   "cell_type": "code",
   "id": "1e81fe16153e3641",
   "metadata": {
    "editable": true,
    "slideshow": {
     "slide_type": "subslide"
    },
    "tags": []
   },
   "source": [
    "json.loads(completion.choices[0].message.tool_calls[0].function.arguments)"
   ],
   "outputs": [],
   "execution_count": null
  },
  {
   "cell_type": "markdown",
   "id": "40cedb74-5c8d-47e2-be6f-c60e640adf92",
   "metadata": {
    "editable": true,
    "slideshow": {
     "slide_type": ""
    },
    "tags": []
   },
   "source": [
    "#### Notes\n",
    "\n",
    "Here you can note that we don't call the functions. The goal is not to use them as a tool call, but as a way of extracting the data from the documents "
   ]
  },
  {
   "cell_type": "markdown",
   "id": "a995dcb724cfc267",
   "metadata": {
    "editable": true,
    "slideshow": {
     "slide_type": "slide"
    },
    "tags": []
   },
   "source": [
    "# Multiple function calls\n",
    "\n",
    "It's important to note that you can ask the llm to call multiple functions to extract the information in the same call. This way you can have a more modular approach to the data extraction.\n",
    "\n",
    "![Tool Calling](../data/tool_calling.png)"
   ]
  },
  {
   "cell_type": "code",
   "id": "9e8c4bc3abaf0fea",
   "metadata": {
    "editable": true,
    "slideshow": {
     "slide_type": "subslide"
    },
    "tags": []
   },
   "source": [
    "import json\n",
    "\n",
    "# Define separate function descriptions for each property.\n",
    "title_extraction_function_description = {\n",
    "    \"type\": \"function\",\n",
    "    \"function\": {\n",
    "        \"name\": \"extract_title\",\n",
    "        \"description\": \"Extract the title from markdown text.\",\n",
    "        \"parameters\": {\n",
    "            \"type\": \"object\",\n",
    "            \"properties\": {\n",
    "                \"title\": {\n",
    "                    \"type\": \"string\",\n",
    "                    \"description\": \"The title of the research article.\"\n",
    "                }\n",
    "            },\n",
    "            \"required\": [\"title\"]\n",
    "        }\n",
    "    }\n",
    "}\n",
    "\n",
    "authors_extraction_function_description = {\n",
    "    \"type\": \"function\",\n",
    "    \"function\": {\n",
    "        \"name\": \"extract_authors\",\n",
    "        \"description\": \"Extract the list of authors from markdown text.\",\n",
    "        \"parameters\": {\n",
    "            \"type\": \"object\",\n",
    "            \"properties\": {\n",
    "                \"authors\": {\n",
    "                    \"type\": \"array\",\n",
    "                    \"items\": {\"type\": \"string\"},\n",
    "                    \"description\": \"A list of authors who contributed to the article.\"\n",
    "                }\n",
    "            },\n",
    "            \"required\": [\"authors\"]\n",
    "        }\n",
    "    }\n",
    "}\n",
    "\n",
    "abstract_extraction_function_description = {\n",
    "    \"type\": \"function\",\n",
    "    \"function\": {\n",
    "        \"name\": \"extract_abstract\",\n",
    "        \"description\": \"Extract the abstract from markdown text.\",\n",
    "        \"parameters\": {\n",
    "            \"type\": \"object\",\n",
    "            \"properties\": {\n",
    "                \"abstract\": {\n",
    "                    \"type\": \"string\",\n",
    "                    \"description\": \"A brief summary of the article's content and findings.\"\n",
    "                }\n",
    "            },\n",
    "            \"required\": [\"abstract\"]\n",
    "        }\n",
    "    }\n",
    "}\n"
   ],
   "outputs": [],
   "execution_count": null
  },
  {
   "cell_type": "code",
   "id": "1635be75-f0df-4e0f-807e-7e50c40b85b6",
   "metadata": {
    "editable": true,
    "slideshow": {
     "slide_type": "subslide"
    },
    "tags": []
   },
   "source": [
    "def generate_completion_multiple_tool_calls(message: str):\n",
    "    response = client.chat.completions.create(\n",
    "        model=MODEL,\n",
    "        messages=[{\"role\": \"user\", \"content\": message}],\n",
    "        tools=[\n",
    "            title_extraction_function_description,\n",
    "            authors_extraction_function_description,\n",
    "            abstract_extraction_function_description,\n",
    "        ],\n",
    "        tool_choice=\"auto\",\n",
    "    )\n",
    "\n",
    "    # Combine the outputs from each function call.\n",
    "    extracted_data = {}\n",
    "    tool_calls = response.choices[0].message.tool_calls  # List of function call responses.\n",
    "    for tool_call in tool_calls:\n",
    "        function_name = tool_call.function.name\n",
    "        # Parse the JSON string of arguments.\n",
    "        arguments = json.loads(tool_call.function.arguments)\n",
    "        if function_name == \"extract_title\":\n",
    "            extracted_data[\"title\"] = arguments[\"title\"]\n",
    "        elif function_name == \"extract_authors\":\n",
    "            extracted_data[\"authors\"] = arguments[\"authors\"]\n",
    "        elif function_name == \"extract_abstract\":\n",
    "            extracted_data[\"abstract\"] = arguments[\"abstract\"]\n",
    "\n",
    "    return extracted_data"
   ],
   "outputs": [],
   "execution_count": null
  },
  {
   "cell_type": "code",
   "id": "f3fedf482ed40fb5",
   "metadata": {
    "editable": true,
    "jupyter": {
     "is_executing": true
    },
    "slideshow": {
     "slide_type": "fragment"
    },
    "tags": []
   },
   "source": [
    "# Example prompt that provides markdown text.\n",
    "prompt = f\"\"\"\n",
    "You are a document processing assistant. I have extracted the following markdown text from a PDF.\n",
    "Please use the given tools to extract the following details:\n",
    "- Title\n",
    "- Authors\n",
    "- Abstract\n",
    "\n",
    "Markdown text:\n",
    "{markdown_text}\n",
    "\"\"\"\n",
    "\n",
    "extracted_data = generate_completion_multiple_tool_calls(prompt)"
   ],
   "outputs": [],
   "execution_count": null
  },
  {
   "cell_type": "code",
   "id": "adfd60bb02aa0ca9",
   "metadata": {
    "editable": true,
    "slideshow": {
     "slide_type": "subslide"
    },
    "tags": []
   },
   "source": [
    "extracted_data"
   ],
   "outputs": [],
   "execution_count": null
  },
  {
   "cell_type": "markdown",
   "id": "49a5e052-a9fd-4e70-bbc2-0acb0d09d6b7",
   "metadata": {
    "editable": true,
    "slideshow": {
     "slide_type": "slide"
    },
    "tags": []
   },
   "source": [
    "## Cost\n",
    "\n",
    "Let's compute the cost of the completion. We'll use the following pricing: https://openai.com/api/pricing/"
   ]
  },
  {
   "cell_type": "code",
   "id": "28d43065fa170603",
   "metadata": {
    "editable": true,
    "slideshow": {
     "slide_type": "fragment"
    },
    "tags": []
   },
   "source": [
    "def compute_chatgpt_4o_cost(completion, verbose: bool = False) -> float:\n",
    "    input_tokens = completion.usage.prompt_tokens\n",
    "    output_tokens = completion.usage.completion_tokens\n",
    "\n",
    "    cost_per_1M_input_tokens = 0.15\n",
    "    cost_per_1M_output_tokens = 0.60\n",
    "\n",
    "    total_cost = (input_tokens / 1e6) * cost_per_1M_input_tokens\n",
    "    total_cost += (output_tokens / 1e6) * cost_per_1M_output_tokens\n",
    "\n",
    "    if verbose:\n",
    "        print(f\"Total input tokens: {input_tokens}\")\n",
    "        print(f\"Total output tokens: {output_tokens}\")\n",
    "        print(f\"Total tokens: {input_tokens+output_tokens}\")\n",
    "        print(f\"Estimated cost: ${total_cost:.4f}\")\n",
    "\n",
    "    return total_cost\n"
   ],
   "outputs": [],
   "execution_count": null
  },
  {
   "cell_type": "code",
   "id": "e6b280d6-cae1-41c2-85e1-65ce975c611f",
   "metadata": {
    "editable": true,
    "slideshow": {
     "slide_type": "subslide"
    },
    "tags": []
   },
   "source": [
    "compute_chatgpt_4o_cost(completion, verbose=True)"
   ],
   "outputs": [],
   "execution_count": null
  },
  {
   "cell_type": "markdown",
   "id": "fc4a8553f3ef6b06",
   "metadata": {
    "editable": true,
    "slideshow": {
     "slide_type": "fragment"
    },
    "tags": []
   },
   "source": [
    "As you can see the major part of the cost is the input tokens. Here we're passing the whole document to the llm which make up for more than 90% of the cost. In the next part we'll see how to reduce the cost by passing only the relevant information to the llm (RAG)."
   ]
  },
  {
   "cell_type": "markdown",
   "id": "75f8a80e-28aa-4b91-adbc-5a0a46cf40b1",
   "metadata": {
    "editable": true,
    "slideshow": {
     "slide_type": "slide"
    },
    "tags": []
   },
   "source": [
    "## Conclusion\n",
    "\n",
    "Structured output help the LLM to produce better and more interpretable results. On the chart below you'll find the relative performances in terms of reliability of the output matching the expected json format."
   ]
  },
  {
   "cell_type": "markdown",
   "id": "2232c3abb0b6a8d1",
   "metadata": {
    "editable": true,
    "slideshow": {
     "slide_type": ""
    },
    "tags": []
   },
   "source": [
    "![output_reliability](../data/output_reliability.png)"
   ]
  },
  {
   "cell_type": "markdown",
   "id": "dd043297d27a185f",
   "metadata": {
    "editable": true,
    "slideshow": {
     "slide_type": "slide"
    },
    "tags": []
   },
   "source": [
    "# Exercises"
   ]
  },
  {
   "cell_type": "markdown",
   "id": "35f5bac63d162b4a",
   "metadata": {
    "editable": true,
    "slideshow": {
     "slide_type": ""
    },
    "tags": []
   },
   "source": [
    "#### Exercise 1: Update the different methods to also extract the DOI\n",
    "\n",
    "Guideline:\n",
    "* Ask for the DOI id with the link.\n"
   ]
  },
  {
   "cell_type": "markdown",
   "id": "b9c19a0ef3e18889",
   "metadata": {
    "editable": true,
    "slideshow": {
     "slide_type": ""
    },
    "tags": []
   },
   "source": [
    "#### Exercise 2: Extract the Bibliography.\n",
    "\n",
    "Guideline:\n",
    "* First define a json schema that will guide the data extraction.\n",
    "* Then define a tool call that will extract the data from one cited paper.\n",
    "* Finally call the tool multiple time and aggregate the results"
   ]
  }
 ],
 "metadata": {
  "kernelspec": {
   "display_name": "Python 3 (ipykernel)",
   "language": "python",
   "name": "python3"
  },
  "language_info": {
   "codemirror_mode": {
    "name": "ipython",
    "version": 3
   },
   "file_extension": ".py",
   "mimetype": "text/x-python",
   "name": "python",
   "nbconvert_exporter": "python",
   "pygments_lexer": "ipython3",
   "version": "3.11.6"
  }
 },
 "nbformat": 4,
 "nbformat_minor": 5
}
