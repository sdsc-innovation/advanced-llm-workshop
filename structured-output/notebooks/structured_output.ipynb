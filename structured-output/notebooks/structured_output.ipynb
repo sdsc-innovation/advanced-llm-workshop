{
 "cells": [
  {
   "cell_type": "markdown",
   "id": "cce52a519fcb861f",
   "metadata": {
    "editable": true,
    "slideshow": {
     "slide_type": "slide"
    },
    "tags": []
   },
   "source": [
    "# LLM and data extraction\n",
    "\n",
    "In this notebook, we will explore how to use the OpenAI API to extract metadata from scientific papers. We will use a PDF file as input and convert it to markdown text. Then, we will use the OpenAI API to extract the title, authors, and abstract from the markdown text.\n",
    "\n",
    "We will compare different methods to extract metadata from scientific papers using the OpenAI API, including:\n",
    "- Asking the API to extract the metadata directly from the markdown text.\n",
    "- Asking the API to extract the metadata and return the result in JSON format.\n",
    "- Using a JSON schema to define the expected output format.\n",
    "- Using Pydantic models to define the expected output format.\n",
    "- Using function calls to extract metadata from the markdown text.\n",
    "\n",
    "In all the following exemple we'll extract the same information on all these articles:\n",
    "- Title\n",
    "- Authors\n",
    "- Abstract"
   ]
  },
  {
   "cell_type": "markdown",
   "id": "2696f294-70e8-42e3-a5aa-a70ebb3fc22b",
   "metadata": {
    "editable": true,
    "slideshow": {
     "slide_type": "subslide"
    },
    "tags": []
   },
   "source": [
    "## Why JSON?\n",
    "\n",
    "- **Interoperability**: JSON is language-agnostic and easily parsed in Python, R, and other languages.\n",
    "- **API Integration**: Many data sources and web services provide data in JSON format, making it essential for fetching and processing external data.\n",
    "- **Hierarchical Structure**: Supports nested data, making it ideal for representing complex datasets like configurations or structured logs.\n",
    "- **Integration with Pandas**: Python's `pandas` library provides seamless methods (`pd.read_json`, `to_json`) for handling JSON data."
   ]
  },
  {
   "cell_type": "markdown",
   "id": "8c27ff0b356d5754",
   "metadata": {
    "editable": true,
    "slideshow": {
     "slide_type": "slide"
    },
    "tags": []
   },
   "source": [
    "## Initialize the OpenAI client and load the libraries"
   ]
  },
  {
   "cell_type": "code",
   "execution_count": null,
   "id": "c8436326871e6351",
   "metadata": {
    "ExecuteTime": {
     "end_time": "2025-03-11T08:54:42.296848Z",
     "start_time": "2025-03-11T08:54:30.023473Z"
    },
    "editable": true,
    "slideshow": {
     "slide_type": "skip"
    },
    "tags": []
   },
   "outputs": [],
   "source": [
    "!pip install -r requirements.txt"
   ]
  },
  {
   "cell_type": "code",
   "execution_count": 1,
   "id": "553e1171e3d7920",
   "metadata": {
    "ExecuteTime": {
     "end_time": "2025-03-11T08:54:53.631586Z",
     "start_time": "2025-03-11T08:54:52.155205Z"
    },
    "editable": true,
    "slideshow": {
     "slide_type": "fragment"
    },
    "tags": []
   },
   "outputs": [],
   "source": [
    "import json\n",
    "import re\n",
    "import pymupdf4llm\n",
    "import os\n",
    "import getpass\n",
    "\n",
    "from pydantic import BaseModel, Field\n",
    "from typing import List\n",
    "\n",
    "from openai import OpenAI\n",
    "\n",
    "from src.pdf_extraction_api import PDFExtractorAPI"
   ]
  },
  {
   "cell_type": "code",
   "execution_count": 2,
   "id": "1eb3f67bcdd61fce",
   "metadata": {
    "ExecuteTime": {
     "end_time": "2025-03-11T08:57:18.702866Z",
     "start_time": "2025-03-11T08:57:12.412241Z"
    },
    "editable": true,
    "slideshow": {
     "slide_type": "fragment"
    },
    "tags": []
   },
   "outputs": [
    {
     "name": "stdin",
     "output_type": "stream",
     "text": [
      " ········\n"
     ]
    }
   ],
   "source": [
    "os.environ[\"OPENAI_API_KEY\"] = getpass.getpass()"
   ]
  },
  {
   "cell_type": "code",
   "execution_count": 3,
   "id": "48713877fe6308ba",
   "metadata": {
    "ExecuteTime": {
     "end_time": "2025-03-11T08:57:21.427363Z",
     "start_time": "2025-03-11T08:57:21.401672Z"
    },
    "editable": true,
    "slideshow": {
     "slide_type": "fragment"
    },
    "tags": []
   },
   "outputs": [],
   "source": [
    "client = OpenAI()\n",
    "MODEL=\"gpt-4o-mini\""
   ]
  },
  {
   "cell_type": "markdown",
   "id": "8fa4dc7653db9f64",
   "metadata": {
    "editable": true,
    "slideshow": {
     "slide_type": "slide"
    },
    "tags": []
   },
   "source": [
    "## Load pdf and convert to markdown\n",
    "\n",
    "Here we're using the `pymupdf4llm` library to convert a PDF file to markdown. There are other alternatives such as `textract` and `docling` that can be used to extract text from PDF files. After the workshop feel free to try different libraries and compare the results.\n",
    "\n",
    "We downloaded 2 articles from Pubmed to showcase the process of data extraction. Feel free to try both articles and compare the results."
   ]
  },
  {
   "cell_type": "code",
   "execution_count": 4,
   "id": "9d9992e9fdc0a91f",
   "metadata": {
    "ExecuteTime": {
     "end_time": "2025-03-11T08:55:32.910506Z",
     "start_time": "2025-03-11T08:55:25.235485Z"
    },
    "editable": true,
    "slideshow": {
     "slide_type": "fragment"
    },
    "tags": []
   },
   "outputs": [],
   "source": [
    "# Load the PDF file\n",
    "pdf_path = \"../data/Explainable_machine_learning_prediction_of_edema_a.pdf\"\n",
    "# pdf_path = \"../data/Modeling tumor size dynamics based on real‐world electronic health records.pdf\"\n",
    "\n",
    "# Convert the PDF file to markdown\n",
    "# markdown_text = pymupdf4llm.to_markdown(pdf_path)\n",
    "\n",
    "data_extractor = PDFExtractorAPI()\n",
    "_, markdown_text, _ = data_extractor.extract_text_and_images(pdf_path)"
   ]
  },
  {
   "cell_type": "code",
   "execution_count": 5,
   "id": "ff74d0515a77808b",
   "metadata": {
    "ExecuteTime": {
     "end_time": "2025-03-11T08:55:35.346514Z",
     "start_time": "2025-03-11T08:55:35.343237Z"
    },
    "editable": true,
    "scrolled": true,
    "slideshow": {
     "slide_type": "subslide"
    },
    "tags": []
   },
   "outputs": [
    {
     "name": "stdout",
     "output_type": "stream",
     "text": [
      "DOI: [10.1111/cts.70010](https://doi.org/10.1111/cts.70010)\n",
      "\n",
      "### **ARTICLE**\n",
      "\n",
      "![](_page_0_Picture_4.jpeg)\n",
      "\n",
      "# **Explainable machine learning prediction of edema adverse events in patients treated with tepotinib**\n",
      "\n",
      "**Federico Amato[1](#page-0-0)** | **Rainer Strotmann[2](#page-0-1)** | **Roberto Castell[o1](#page-0-0)** | **Rolf Bruns[2](#page-0-1)** | **Vishal Ghori[3](#page-0-2)** | **Andreas John[e2](#page-0-1)** | **Karin Berghoff[2](#page-0-1)** | **Karthik Venkatakrishna[n4](#page-0-3)** | **Nadia Terranova[5](#page-0-4)**\n",
      "\n",
      "<span id=\"page-0-0\"></span>1 Swiss Data Science Center (EPFL and ETH Zurich), Lausanne, Switzerland\n",
      "\n",
      "<span id=\"page-0-1\"></span>2 The healthcare business of Merck KGaA, Darmstadt, Germany\n",
      "\n",
      "<span id=\"page-0-2\"></span>3 Ares Trading S.A., Eysins, Switzerland, an affiliate of Merck KGaA, Darmstadt, Germany\n",
      "\n",
      "<span id=\"page-0-3\"></span>4 EMD Serono, Billerica, Massachusetts, USA\n",
      "\n",
      "<span id=\"page-0-4\"></span>5 Quantitative Pharmacology, Ares Trading S.A., Lausanne, Switzerland, an affiliate of Merck KGaA, Darmstadt, Germany\n",
      "\n",
      "#### **Correspondence**\n",
      "\n",
      "Nadia Terranova, Quantitative Pharmacology, Ares Trading S.A., Lausanne, Switzerland, an affiliate of Merck KGaA, Darmstadt, Germany. Email: [nadia.terranova@emdgroup.](mailto:nadia.terranova@emdgroup.com) [com](mailto:nadia.terranova@emdgroup.com)\n",
      "\n",
      "### **Abstract**\n",
      "\n",
      "Tepotinib is approved for the treatment of patients with non-small-cell lung cancer harboring *MET* exon 14 skipping alterations. While edema is the most prevalent adverse event (AE) and a known class effect of MET inhibitors including tepotinib, there is still limited understanding about the factors contributing to its occurrence. Herein, we apply machine learning (ML)-based approaches to predict the likelihood of occurrence of edema in patients undergoing tepotinib treatment, and to identify factors influencing its development over time. Data from 612 patients receiving tepotinib in five Phase I/II studies were modeled with two ML algorithms, Random Forest, and Gradient Boosting Trees, to predict edema AE incidence and severity. Probability calibration was applied to give a realistic estimation of the likelihood of edema AE. Best model was tested on follow-up data and on data from clinical studies unused while training. Results showed high performances across all the tested settings, with F1 scores up to 0.961 when retraining the model with the most relevant covariates. The use of ML explainability methods identified serum albumin as the most informative longitudinal covariate, and higher age as associated with higher probabilities of more severe edema. The developed methodological framework enables the use of ML algorithms for analyzing clinical safety data and exploiting longitudinal information through various covariate engineering approaches. Probability calibration ensures the accurate estimation of the likelihood of the AE occurrence, while explainability tools can identify factors contributing to model predictions, hence supporting population and individual patient-level interpretation.\n",
      "\n",
      "### **Study Highlights**\n",
      "\n",
      "### **WHAT IS THE CURRENT KNOWLEDGE ON THE TOPIC?**\n",
      "\n",
      "Edema is recognized as the most prevalent AE and a known class effect of MET inhibitors, including tepotinib. Current efforts aim to understand the efficacy of\n",
      "\n",
      "Karin Berghoff was an employee at the time of the study.\n",
      "\n",
      "This is an open access article under the terms of the [Creative Commons Attribution-NonCommercial](http://creativecommons.org/licenses/by-nc/4.0/) License, which permits use, distribution and reproduction in any medium, provided the original work is properly cited and is not used for commercial purposes.\n",
      "\n",
      "© 2024 The Author(s). *Clinical and Translational Science* published by Wiley Periodicals LLC on behalf of American Society for Clinical Pharmacology and Therapeutics.\n",
      "\n",
      "dose modifications in reducing this AE, exploring its relationship with potential prognostic factors.\n",
      "\n",
      "### **WHAT QUESTION DID THIS STUDY ADDRESS?**\n",
      "\n",
      "Are there baseline and time-varying factors to support the identification of higher likelihood of edema occurrence in patients receiving tepotinib treatment?\n",
      "\n",
      "### **WHAT DOES THIS STUDY ADD TO OUR KNOWLEDGE?**\n",
      "\n",
      "This study assesses 54 covariates as predictors of edema using ML. Explainability tools investigate the relationship between input covariates and predicted outcomes. The identified drivers align with the existing knowledge of the investigated AE behavior.\n",
      "\n",
      "### **HOW MIGHT THIS CHANGE DRUG DISCOVERY, DEVELOPMENT, AND/OR THERAPEUTICS?**\n",
      "\n",
      "This study presents a framework to apply ML and explainability algorithms on longitudinal clinical data, ensuring a correct estimation of the probability of occurrence of the predicted events. Findings from the presented use case showcase the potential of the framework to enhance insights in clinical pharmacology and increase confidence in safety model outcomes.\n",
      "\n",
      "# **INTRODUCTION**\n",
      "\n",
      "Drug-disease models play a pivotal role in quantitative understanding of the trajectory of disease pathophysiology and the effects of drug treatment. These empirical or mechanistic models, often requiring the abstraction of data into dynamical systems, have proven to be valuable tools in drug development and therapeutic research.[1](#page-10-0) However, their ability to mathematically describe complex datasets is highly dependent on the availability, quality, and quantity of data, and on the assumptions made by the modeler[.2](#page-10-1) In parallel, the recent digital healthcare revolution has significantly expanded the opportunities to collect diverse, multimodal, high-dimensional data, including clinical information, multi-omics data, electronic health records, and imaging data, enabling advancements in precision medicine.[3-5](#page-10-2) While this presents new opportunities to enhance drug development efficiency and improve patient care, it also poses a new challenge for traditional modeling approaches. Indeed, extracting meaningful insights from such vast volumes of diverse data has become increasingly difficult.\n",
      "\n",
      "In this context, machine learning (ML) approaches have emerged as promising in advancing understanding in drug and disease in the context of drug development, while complementing and enhancing conventional approaches like pharmacometrics models[.6](#page-10-3) ML models are universal, nonlinear, function approximation tools capable of learning patterns from empirical data by exploiting highly dimensional input spaces, that is, potentially incorporating a large number of covariates within the model.[7,8](#page-10-4) Moreover, no assumptions on data distributions or on the biological process driving the studied phenomena must be a priori taken, as ML models are fully data driven. Such characteristics neatly distinguish ML algorithms from other non-mechanistic models and traditional statistical approaches.[9](#page-10-5) Many ML applications have already proven effective in modeling the occurrence of events or clinical outcomes along with baseline covariate values. However, there is still not a shared unified pipeline for ML application on longitudinal clinical data.\n",
      "\n",
      "In this study, a framework to apply ML approaches to the prediction of longitudinal clinical end points is proposed. The framework is presented via an application on the case study of tepotinib, a highly selective, potent, orally available, reversible, type Ib adenosine triphosphate (ATP)-competitive, small molecule inhibitor of the mesenchymal–epithelial transition factor (MET)[.10](#page-10-6) Tepotinib inhibits hepatocyte growth factor (HGF)-dependent and -independent MET tyrosine kinase signaling by blocking MET phosphorylation, and showed antitumor activity in multiple tumor models derived from diverse cancer types.[11,12](#page-10-7) The antitumor activity of tepotinib is particularly pronounced in tumors with oncogenic alterations of *MET*, such as *MET* exon 14 (*MET*ex14) skipping and highlevel *MET* amplification. Based on results from the Phase II VISION (NCT02864992) clinical trial,[13-16](#page-10-8) tepotinib is approved in multiple regions for the treatment of patients with non-small-cell lung cancer (NSCLC) with *MET*ex14 skipping alterations, representing ~3–4% of this type of cancer.\n",
      "\n",
      "Previous clinical studies have revealed edema as the most prevalent adverse event and a known class effect of MET inhibitors including tepotinib.[17,18](#page-10-9) However, the\n",
      "\n",
      "links between the participants' clinical history, the time and duration of tepotinib treatment, and the occurrence of edema remain unclear, and understanding the effect of dose modifications to mitigate such adverse event is the object of ongoing investigations.\n",
      "\n",
      "The objectives of this study were twofold. First, ML models were tested to predict the occurrence of edema grade in patients undergoing tepotinib treatment. To this aim, a framework to apply classical ML approaches to the specific task of edema prediction was designed. In doing so, two ML models belonging to the family of classification trees algorithm, namely Random Forest (RF) and Gradient Boosting Trees (GBT), were applied and benchmarked. Classification trees are known to outperform more complex models, including neural networks, when used for prediction tasks on structured tabular data such as those collected for the present study.[19](#page-10-10) However, they are not able to intrinsically account for the longitudinal dimension characterizing clinical data. To overcome this limitation, different ways of introducing the temporal dimension into the model via covariate engineering were evaluated. The performances of the best predictive model were verified on longer term follow-up data, and on data for a different set of patients. Finally, the model was retrained including the entire dataset and only on a reduced set of the most relevant input covariates.\n",
      "\n",
      "The second objective of the study was the identification of the factors predicting edema occurrence a\n"
     ]
    }
   ],
   "source": [
    "print(markdown_text[:10000])"
   ]
  },
  {
   "cell_type": "markdown",
   "id": "c8e4c924c9414ed7",
   "metadata": {
    "editable": true,
    "slideshow": {
     "slide_type": "slide"
    },
    "tags": []
   },
   "source": [
    "## Default extraction\n",
    "\n",
    "In this case, we will provide a prompt asking the API to extract the title, authors, and abstract from the markdown text. No extra indications are given to the model.\n",
    "\n"
   ]
  },
  {
   "cell_type": "code",
   "execution_count": 6,
   "id": "5ae9b2b242da9ab0",
   "metadata": {
    "ExecuteTime": {
     "end_time": "2025-03-11T08:57:28.077469Z",
     "start_time": "2025-03-11T08:57:28.074423Z"
    },
    "editable": true,
    "slideshow": {
     "slide_type": "fragment"
    },
    "tags": []
   },
   "outputs": [],
   "source": [
    "def generate_completion(message: str):\n",
    "    return client.chat.completions.create(\n",
    "        model=MODEL,\n",
    "        messages=[{\"role\": \"user\", \"content\": message}],\n",
    "    )"
   ]
  },
  {
   "cell_type": "code",
   "execution_count": 7,
   "id": "999270a2c5c59884",
   "metadata": {
    "ExecuteTime": {
     "end_time": "2025-03-11T08:57:39.850659Z",
     "start_time": "2025-03-11T08:57:29.529333Z"
    },
    "editable": true,
    "slideshow": {
     "slide_type": "fragment"
    },
    "tags": []
   },
   "outputs": [],
   "source": [
    "prompt = f\"\"\"\n",
    "You are a document processing assistant. I have extracted the following markdown text from a PDF.\n",
    "Please extract the following details:\n",
    "- Title\n",
    "- Authors\n",
    "- Abstract\n",
    "\n",
    "Markdown text:\n",
    "{markdown_text}\n",
    "\"\"\"\n",
    "\n",
    "completion = generate_completion(prompt)"
   ]
  },
  {
   "cell_type": "code",
   "execution_count": 8,
   "id": "2a115d16021b686f",
   "metadata": {
    "ExecuteTime": {
     "end_time": "2025-03-11T08:57:39.861501Z",
     "start_time": "2025-03-11T08:57:39.858472Z"
    },
    "editable": true,
    "slideshow": {
     "slide_type": "subslide"
    },
    "tags": []
   },
   "outputs": [
    {
     "name": "stdout",
     "output_type": "stream",
     "text": [
      "Here are the extracted details from the markdown text:\n",
      "\n",
      "- **Title:**  \n",
      "  Explainable machine learning prediction of edema adverse events in patients treated with tepotinib\n",
      "\n",
      "- **Authors:**  \n",
      "  Federico Amato, Rainer Strotmann, Roberto Castell, Rolf Bruns, Vishal Ghori, Andreas John, Karin Berghoff, Karthik Venkatakrishnan, Nadia Terranova\n",
      "\n",
      "- **Abstract:**  \n",
      "  Tepotinib is approved for the treatment of patients with non-small-cell lung cancer harboring *MET* exon 14 skipping alterations. While edema is the most prevalent adverse event (AE) and a known class effect of MET inhibitors including tepotinib, there is still limited understanding about the factors contributing to its occurrence. Herein, we apply machine learning (ML)-based approaches to predict the likelihood of occurrence of edema in patients undergoing tepotinib treatment, and to identify factors influencing its development over time. Data from 612 patients receiving tepotinib in five Phase I/II studies were modeled with two ML algorithms, Random Forest, and Gradient Boosting Trees, to predict edema AE incidence and severity. Probability calibration was applied to give a realistic estimation of the likelihood of edema AE. Best model was tested on follow-up data and on data from clinical studies unused while training. Results showed high performances across all the tested settings, with F1 scores up to 0.961 when retraining the model with the most relevant covariates. The use of ML explainability methods identified serum albumin as the most informative longitudinal covariate, and higher age as associated with higher probabilities of more severe edema. The developed methodological framework enables the use of ML algorithms for analyzing clinical safety data and exploiting longitudinal information through various covariate engineering approaches. Probability calibration ensures the accurate estimation of the likelihood of the AE occurrence, while explainability tools can identify factors contributing to model predictions, hence supporting population and individual patient-level interpretation.\n"
     ]
    }
   ],
   "source": [
    "print(completion.choices[0].message.content)"
   ]
  },
  {
   "cell_type": "markdown",
   "id": "d88809827a33ea91",
   "metadata": {
    "editable": true,
    "slideshow": {
     "slide_type": "fragment"
    },
    "tags": []
   },
   "source": [
    "#### Result\n",
    "\n",
    "We can see here that the LLM model was able to extract the title, authors, and abstract from the markdown text. The result is returned as plain text in a markdown format. This format is not very structured and may require additional processing to extract the information."
   ]
  },
  {
   "cell_type": "markdown",
   "id": "8b3feb7fa15cce91",
   "metadata": {
    "editable": true,
    "slideshow": {
     "slide_type": "slide"
    },
    "tags": []
   },
   "source": [
    "## Asking for JSON format\n",
    "\n",
    "Here we're adding one step more. We're asking the LLM to return the result in JSON format. This way we can have a more structured output and it will be easier to extract the information."
   ]
  },
  {
   "cell_type": "code",
   "execution_count": 9,
   "id": "dbcfe80fc2bb462d",
   "metadata": {
    "ExecuteTime": {
     "end_time": "2025-03-11T08:57:53.149042Z",
     "start_time": "2025-03-11T08:57:44.214285Z"
    },
    "editable": true,
    "slideshow": {
     "slide_type": "fragment"
    },
    "tags": []
   },
   "outputs": [],
   "source": [
    "prompt = f\"\"\"\n",
    "You are a document processing assistant. I have extracted the following markdown text from a PDF.\n",
    "Please extract the following details:\n",
    "- Title\n",
    "- Authors\n",
    "- Abstract\n",
    "\n",
    "Markdown text:\n",
    "{markdown_text}\n",
    "\n",
    "Give me the result in JSON format.\n",
    "\"\"\"\n",
    "\n",
    "completion = generate_completion(prompt)"
   ]
  },
  {
   "cell_type": "code",
   "execution_count": 10,
   "id": "80a3adde0f32c3dd",
   "metadata": {
    "ExecuteTime": {
     "end_time": "2025-03-11T08:57:53.155815Z",
     "start_time": "2025-03-11T08:57:53.153647Z"
    },
    "editable": true,
    "slideshow": {
     "slide_type": "subslide"
    },
    "tags": []
   },
   "outputs": [
    {
     "name": "stdout",
     "output_type": "stream",
     "text": [
      "```json\n",
      "{\n",
      "  \"Title\": \"Explainable machine learning prediction of edema adverse events in patients treated with tepotinib\",\n",
      "  \"Authors\": [\n",
      "    \"Federico Amato\",\n",
      "    \"Rainer Strotmann\",\n",
      "    \"Roberto Castello\",\n",
      "    \"Rolf Bruns\",\n",
      "    \"Vishal Ghori\",\n",
      "    \"Andreas John\",\n",
      "    \"Karin Berghoff\",\n",
      "    \"Karthik Venkatakrishnan\",\n",
      "    \"Nadia Terranova\"\n",
      "  ],\n",
      "  \"Abstract\": \"Tepotinib is approved for the treatment of patients with non-small-cell lung cancer harboring MET exon 14 skipping alterations. While edema is the most prevalent adverse event (AE) and a known class effect of MET inhibitors including tepotinib, there is still limited understanding about the factors contributing to its occurrence. Herein, we apply machine learning (ML)-based approaches to predict the likelihood of occurrence of edema in patients undergoing tepotinib treatment, and to identify factors influencing its development over time. Data from 612 patients receiving tepotinib in five Phase I/II studies were modeled with two ML algorithms, Random Forest, and Gradient Boosting Trees, to predict edema AE incidence and severity. Probability calibration was applied to give a realistic estimation of the likelihood of edema AE. Best model was tested on follow-up data and on data from clinical studies unused while training. Results showed high performances across all the tested settings, with F1 scores up to 0.961 when retraining the model with the most relevant covariates. The use of ML explainability methods identified serum albumin as the most informative longitudinal covariate, and higher age as associated with higher probabilities of more severe edema. The developed methodological framework enables the use of ML algorithms for analyzing clinical safety data and exploiting longitudinal information through various covariate engineering approaches. Probability calibration ensures the accurate estimation of the likelihood of the AE occurrence, while explainability tools can identify factors contributing to model predictions, hence supporting population and individual patient-level interpretation.\"\n",
      "}\n",
      "```\n"
     ]
    }
   ],
   "source": [
    "print(completion.choices[0].message.content)"
   ]
  },
  {
   "cell_type": "code",
   "execution_count": 11,
   "id": "60b469514bfacb02",
   "metadata": {
    "ExecuteTime": {
     "end_time": "2025-03-11T08:57:53.208685Z",
     "start_time": "2025-03-11T08:57:53.163769Z"
    },
    "editable": true,
    "slideshow": {
     "slide_type": "subslide"
    },
    "tags": []
   },
   "outputs": [
    {
     "ename": "JSONDecodeError",
     "evalue": "Expecting value: line 1 column 1 (char 0)",
     "output_type": "error",
     "traceback": [
      "\u001b[31m---------------------------------------------------------------------------\u001b[39m",
      "\u001b[31mJSONDecodeError\u001b[39m                           Traceback (most recent call last)",
      "\u001b[36mCell\u001b[39m\u001b[36m \u001b[39m\u001b[32mIn[11]\u001b[39m\u001b[32m, line 1\u001b[39m\n\u001b[32m----> \u001b[39m\u001b[32m1\u001b[39m \u001b[43mjson\u001b[49m\u001b[43m.\u001b[49m\u001b[43mloads\u001b[49m\u001b[43m(\u001b[49m\u001b[43mcompletion\u001b[49m\u001b[43m.\u001b[49m\u001b[43mchoices\u001b[49m\u001b[43m[\u001b[49m\u001b[32;43m0\u001b[39;49m\u001b[43m]\u001b[49m\u001b[43m.\u001b[49m\u001b[43mmessage\u001b[49m\u001b[43m.\u001b[49m\u001b[43mcontent\u001b[49m\u001b[43m)\u001b[49m\n",
      "\u001b[36mFile \u001b[39m\u001b[32m/Library/Frameworks/Python.framework/Versions/3.11/lib/python3.11/json/__init__.py:346\u001b[39m, in \u001b[36mloads\u001b[39m\u001b[34m(s, cls, object_hook, parse_float, parse_int, parse_constant, object_pairs_hook, **kw)\u001b[39m\n\u001b[32m    341\u001b[39m     s = s.decode(detect_encoding(s), \u001b[33m'\u001b[39m\u001b[33msurrogatepass\u001b[39m\u001b[33m'\u001b[39m)\n\u001b[32m    343\u001b[39m \u001b[38;5;28;01mif\u001b[39;00m (\u001b[38;5;28mcls\u001b[39m \u001b[38;5;129;01mis\u001b[39;00m \u001b[38;5;28;01mNone\u001b[39;00m \u001b[38;5;129;01mand\u001b[39;00m object_hook \u001b[38;5;129;01mis\u001b[39;00m \u001b[38;5;28;01mNone\u001b[39;00m \u001b[38;5;129;01mand\u001b[39;00m\n\u001b[32m    344\u001b[39m         parse_int \u001b[38;5;129;01mis\u001b[39;00m \u001b[38;5;28;01mNone\u001b[39;00m \u001b[38;5;129;01mand\u001b[39;00m parse_float \u001b[38;5;129;01mis\u001b[39;00m \u001b[38;5;28;01mNone\u001b[39;00m \u001b[38;5;129;01mand\u001b[39;00m\n\u001b[32m    345\u001b[39m         parse_constant \u001b[38;5;129;01mis\u001b[39;00m \u001b[38;5;28;01mNone\u001b[39;00m \u001b[38;5;129;01mand\u001b[39;00m object_pairs_hook \u001b[38;5;129;01mis\u001b[39;00m \u001b[38;5;28;01mNone\u001b[39;00m \u001b[38;5;129;01mand\u001b[39;00m \u001b[38;5;129;01mnot\u001b[39;00m kw):\n\u001b[32m--> \u001b[39m\u001b[32m346\u001b[39m     \u001b[38;5;28;01mreturn\u001b[39;00m \u001b[43m_default_decoder\u001b[49m\u001b[43m.\u001b[49m\u001b[43mdecode\u001b[49m\u001b[43m(\u001b[49m\u001b[43ms\u001b[49m\u001b[43m)\u001b[49m\n\u001b[32m    347\u001b[39m \u001b[38;5;28;01mif\u001b[39;00m \u001b[38;5;28mcls\u001b[39m \u001b[38;5;129;01mis\u001b[39;00m \u001b[38;5;28;01mNone\u001b[39;00m:\n\u001b[32m    348\u001b[39m     \u001b[38;5;28mcls\u001b[39m = JSONDecoder\n",
      "\u001b[36mFile \u001b[39m\u001b[32m/Library/Frameworks/Python.framework/Versions/3.11/lib/python3.11/json/decoder.py:337\u001b[39m, in \u001b[36mJSONDecoder.decode\u001b[39m\u001b[34m(self, s, _w)\u001b[39m\n\u001b[32m    332\u001b[39m \u001b[38;5;28;01mdef\u001b[39;00m\u001b[38;5;250m \u001b[39m\u001b[34mdecode\u001b[39m(\u001b[38;5;28mself\u001b[39m, s, _w=WHITESPACE.match):\n\u001b[32m    333\u001b[39m \u001b[38;5;250m    \u001b[39m\u001b[33;03m\"\"\"Return the Python representation of ``s`` (a ``str`` instance\u001b[39;00m\n\u001b[32m    334\u001b[39m \u001b[33;03m    containing a JSON document).\u001b[39;00m\n\u001b[32m    335\u001b[39m \n\u001b[32m    336\u001b[39m \u001b[33;03m    \"\"\"\u001b[39;00m\n\u001b[32m--> \u001b[39m\u001b[32m337\u001b[39m     obj, end = \u001b[38;5;28;43mself\u001b[39;49m\u001b[43m.\u001b[49m\u001b[43mraw_decode\u001b[49m\u001b[43m(\u001b[49m\u001b[43ms\u001b[49m\u001b[43m,\u001b[49m\u001b[43m \u001b[49m\u001b[43midx\u001b[49m\u001b[43m=\u001b[49m\u001b[43m_w\u001b[49m\u001b[43m(\u001b[49m\u001b[43ms\u001b[49m\u001b[43m,\u001b[49m\u001b[43m \u001b[49m\u001b[32;43m0\u001b[39;49m\u001b[43m)\u001b[49m\u001b[43m.\u001b[49m\u001b[43mend\u001b[49m\u001b[43m(\u001b[49m\u001b[43m)\u001b[49m\u001b[43m)\u001b[49m\n\u001b[32m    338\u001b[39m     end = _w(s, end).end()\n\u001b[32m    339\u001b[39m     \u001b[38;5;28;01mif\u001b[39;00m end != \u001b[38;5;28mlen\u001b[39m(s):\n",
      "\u001b[36mFile \u001b[39m\u001b[32m/Library/Frameworks/Python.framework/Versions/3.11/lib/python3.11/json/decoder.py:355\u001b[39m, in \u001b[36mJSONDecoder.raw_decode\u001b[39m\u001b[34m(self, s, idx)\u001b[39m\n\u001b[32m    353\u001b[39m     obj, end = \u001b[38;5;28mself\u001b[39m.scan_once(s, idx)\n\u001b[32m    354\u001b[39m \u001b[38;5;28;01mexcept\u001b[39;00m \u001b[38;5;167;01mStopIteration\u001b[39;00m \u001b[38;5;28;01mas\u001b[39;00m err:\n\u001b[32m--> \u001b[39m\u001b[32m355\u001b[39m     \u001b[38;5;28;01mraise\u001b[39;00m JSONDecodeError(\u001b[33m\"\u001b[39m\u001b[33mExpecting value\u001b[39m\u001b[33m\"\u001b[39m, s, err.value) \u001b[38;5;28;01mfrom\u001b[39;00m\u001b[38;5;250m \u001b[39m\u001b[38;5;28;01mNone\u001b[39;00m\n\u001b[32m    356\u001b[39m \u001b[38;5;28;01mreturn\u001b[39;00m obj, end\n",
      "\u001b[31mJSONDecodeError\u001b[39m: Expecting value: line 1 column 1 (char 0)"
     ]
    }
   ],
   "source": [
    "json.loads(completion.choices[0].message.content)"
   ]
  },
  {
   "cell_type": "markdown",
   "id": "ce8ff68f0d842eed",
   "metadata": {
    "editable": true,
    "slideshow": {
     "slide_type": "subslide"
    },
    "tags": []
   },
   "source": [
    "#### Result\n",
    "\n",
    "The result is not returned in JSON format as requested. The model still returns the information in plain text containing the JSON code. The data is structured as JSON, but it is not returned as a JSON object. We will need to process the text to extract the JSON object."
   ]
  },
  {
   "cell_type": "code",
   "execution_count": 12,
   "id": "77c6670ee38a3c27",
   "metadata": {
    "ExecuteTime": {
     "end_time": "2025-03-11T08:58:34.865611Z",
     "start_time": "2025-03-11T08:58:34.855734Z"
    },
    "editable": true,
    "slideshow": {
     "slide_type": "fragment"
    },
    "tags": []
   },
   "outputs": [
    {
     "data": {
      "text/plain": [
       "{'Title': 'Explainable machine learning prediction of edema adverse events in patients treated with tepotinib',\n",
       " 'Authors': ['Federico Amato',\n",
       "  'Rainer Strotmann',\n",
       "  'Roberto Castello',\n",
       "  'Rolf Bruns',\n",
       "  'Vishal Ghori',\n",
       "  'Andreas John',\n",
       "  'Karin Berghoff',\n",
       "  'Karthik Venkatakrishnan',\n",
       "  'Nadia Terranova'],\n",
       " 'Abstract': 'Tepotinib is approved for the treatment of patients with non-small-cell lung cancer harboring MET exon 14 skipping alterations. While edema is the most prevalent adverse event (AE) and a known class effect of MET inhibitors including tepotinib, there is still limited understanding about the factors contributing to its occurrence. Herein, we apply machine learning (ML)-based approaches to predict the likelihood of occurrence of edema in patients undergoing tepotinib treatment, and to identify factors influencing its development over time. Data from 612 patients receiving tepotinib in five Phase I/II studies were modeled with two ML algorithms, Random Forest, and Gradient Boosting Trees, to predict edema AE incidence and severity. Probability calibration was applied to give a realistic estimation of the likelihood of edema AE. Best model was tested on follow-up data and on data from clinical studies unused while training. Results showed high performances across all the tested settings, with F1 scores up to 0.961 when retraining the model with the most relevant covariates. The use of ML explainability methods identified serum albumin as the most informative longitudinal covariate, and higher age as associated with higher probabilities of more severe edema. The developed methodological framework enables the use of ML algorithms for analyzing clinical safety data and exploiting longitudinal information through various covariate engineering approaches. Probability calibration ensures the accurate estimation of the likelihood of the AE occurrence, while explainability tools can identify factors contributing to model predictions, hence supporting population and individual patient-level interpretation.'}"
      ]
     },
     "execution_count": 12,
     "metadata": {},
     "output_type": "execute_result"
    }
   ],
   "source": [
    "# Remove the markdown code block markers\n",
    "json_str = re.sub(r\"^```(?:json)?\\s*\", \"\", completion.choices[0].message.content)\n",
    "json_str = re.sub(r\"\\s*```$\", \"\", json_str)\n",
    "\n",
    "# Parse the JSON string\n",
    "json.loads(json_str)"
   ]
  },
  {
   "cell_type": "markdown",
   "id": "1b0bd90c5bab3e50",
   "metadata": {
    "editable": true,
    "slideshow": {
     "slide_type": "slide"
    },
    "tags": []
   },
   "source": [
    "## Enters `response_format`\n",
    "\n",
    "OpenAI allows us to specify the response format to be \"json_object\". This way we can force the model to return the result in JSON format. That way the parsing of the result will be easier."
   ]
  },
  {
   "cell_type": "code",
   "execution_count": 13,
   "id": "8de4a91849c0e",
   "metadata": {
    "ExecuteTime": {
     "end_time": "2025-03-11T08:58:35.926222Z",
     "start_time": "2025-03-11T08:58:35.922890Z"
    },
    "editable": true,
    "slideshow": {
     "slide_type": "fragment"
    },
    "tags": []
   },
   "outputs": [],
   "source": [
    "def generate_completion_json(message: str):\n",
    "    return client.chat.completions.create(\n",
    "        model=MODEL,\n",
    "        messages=[{\"role\": \"user\", \"content\": message}],\n",
    "        response_format={\"type\": \"json_object\"},\n",
    "    )"
   ]
  },
  {
   "cell_type": "code",
   "execution_count": 14,
   "id": "f50caccb7fb23d65",
   "metadata": {
    "ExecuteTime": {
     "end_time": "2025-03-11T08:58:46.182196Z",
     "start_time": "2025-03-11T08:58:36.109465Z"
    },
    "editable": true,
    "slideshow": {
     "slide_type": "fragment"
    },
    "tags": []
   },
   "outputs": [],
   "source": [
    "prompt = f\"\"\"\n",
    "You are a document processing assistant. I have extracted the following markdown text from a PDF.\n",
    "Please extract the following details:\n",
    "- Title\n",
    "- Authors\n",
    "- Abstract\n",
    "\n",
    "Markdown text:\n",
    "{markdown_text}\n",
    "\n",
    "Give me the result in JSON format.\n",
    "\"\"\"\n",
    "\n",
    "completion = generate_completion_json(prompt)"
   ]
  },
  {
   "cell_type": "code",
   "execution_count": 15,
   "id": "609710ce91bdf3f2",
   "metadata": {
    "ExecuteTime": {
     "end_time": "2025-03-11T08:58:46.195143Z",
     "start_time": "2025-03-11T08:58:46.191460Z"
    },
    "editable": true,
    "slideshow": {
     "slide_type": "subslide"
    },
    "tags": []
   },
   "outputs": [
    {
     "name": "stdout",
     "output_type": "stream",
     "text": [
      "{\n",
      "  \"title\": \"Explainable machine learning prediction of edema adverse events in patients treated with tepotinib\",\n",
      "  \"authors\": [\n",
      "    \"Federico Amato\",\n",
      "    \"Rainer Strotmann\",\n",
      "    \"Roberto Castell\",\n",
      "    \"Rolf Bruns\",\n",
      "    \"Vishal Ghori\",\n",
      "    \"Andreas John\",\n",
      "    \"Karin Berghoff\",\n",
      "    \"Karthik Venkatakrishnan\",\n",
      "    \"Nadia Terranova\"\n",
      "  ],\n",
      "  \"abstract\": \"Tepotinib is approved for the treatment of patients with non-small-cell lung cancer harboring MET exon 14 skipping alterations. While edema is the most prevalent adverse event (AE) and a known class effect of MET inhibitors including tepotinib, there is still limited understanding about the factors contributing to its occurrence. Herein, we apply machine learning (ML)-based approaches to predict the likelihood of occurrence of edema in patients undergoing tepotinib treatment, and to identify factors influencing its development over time. Data from 612 patients receiving tepotinib in five Phase I/II studies were modeled with two ML algorithms, Random Forest, and Gradient Boosting Trees, to predict edema AE incidence and severity. Probability calibration was applied to give a realistic estimation of the likelihood of edema AE. Best model was tested on follow-up data and on data from clinical studies unused while training. Results showed high performances across all the tested settings, with F1 scores up to 0.961 when retraining the model with the most relevant covariates. The use of ML explainability methods identified serum albumin as the most informative longitudinal covariate, and higher age as associated with higher probabilities of more severe edema. The developed methodological framework enables the use of ML algorithms for analyzing clinical safety data and exploiting longitudinal information through various covariate engineering approaches. Probability calibration ensures the accurate estimation of the likelihood of the AE occurrence, while explainability tools can identify factors contributing to model predictions, hence supporting population and individual patient-level interpretation.\"\n",
      "}\n"
     ]
    }
   ],
   "source": [
    "print(completion.choices[0].message.content)"
   ]
  },
  {
   "cell_type": "code",
   "execution_count": 16,
   "id": "16e99ecb99b79a0a",
   "metadata": {
    "ExecuteTime": {
     "end_time": "2025-03-11T08:58:46.210502Z",
     "start_time": "2025-03-11T08:58:46.207122Z"
    },
    "editable": true,
    "slideshow": {
     "slide_type": "subslide"
    },
    "tags": []
   },
   "outputs": [
    {
     "data": {
      "text/plain": [
       "{'title': 'Explainable machine learning prediction of edema adverse events in patients treated with tepotinib',\n",
       " 'authors': ['Federico Amato',\n",
       "  'Rainer Strotmann',\n",
       "  'Roberto Castell',\n",
       "  'Rolf Bruns',\n",
       "  'Vishal Ghori',\n",
       "  'Andreas John',\n",
       "  'Karin Berghoff',\n",
       "  'Karthik Venkatakrishnan',\n",
       "  'Nadia Terranova'],\n",
       " 'abstract': 'Tepotinib is approved for the treatment of patients with non-small-cell lung cancer harboring MET exon 14 skipping alterations. While edema is the most prevalent adverse event (AE) and a known class effect of MET inhibitors including tepotinib, there is still limited understanding about the factors contributing to its occurrence. Herein, we apply machine learning (ML)-based approaches to predict the likelihood of occurrence of edema in patients undergoing tepotinib treatment, and to identify factors influencing its development over time. Data from 612 patients receiving tepotinib in five Phase I/II studies were modeled with two ML algorithms, Random Forest, and Gradient Boosting Trees, to predict edema AE incidence and severity. Probability calibration was applied to give a realistic estimation of the likelihood of edema AE. Best model was tested on follow-up data and on data from clinical studies unused while training. Results showed high performances across all the tested settings, with F1 scores up to 0.961 when retraining the model with the most relevant covariates. The use of ML explainability methods identified serum albumin as the most informative longitudinal covariate, and higher age as associated with higher probabilities of more severe edema. The developed methodological framework enables the use of ML algorithms for analyzing clinical safety data and exploiting longitudinal information through various covariate engineering approaches. Probability calibration ensures the accurate estimation of the likelihood of the AE occurrence, while explainability tools can identify factors contributing to model predictions, hence supporting population and individual patient-level interpretation.'}"
      ]
     },
     "execution_count": 16,
     "metadata": {},
     "output_type": "execute_result"
    }
   ],
   "source": [
    "json.loads(completion.choices[0].message.content)"
   ]
  },
  {
   "cell_type": "markdown",
   "id": "f108d1e70e12ceb0",
   "metadata": {
    "editable": true,
    "slideshow": {
     "slide_type": "fragment"
    },
    "tags": []
   },
   "source": [
    "#### Result\n",
    "\n",
    "This time the result is returned in JSON format as requested. We can directly parse the JSON object to extract the information using `json.loads()`. However, there is no guarantee that the JSON object will have the expected structure. The model may return the data in a different format than the one we expect for exemple with different casing."
   ]
  },
  {
   "cell_type": "markdown",
   "id": "a8db61eefdd694c1",
   "metadata": {
    "editable": true,
    "slideshow": {
     "slide_type": "slide"
    },
    "tags": []
   },
   "source": [
    "## Custom json schema\n",
    "\n",
    "This time we'll pass a json schema to the model as defined here: https://json-schema.org/. This way we can force the model to return the result in a specific structure, provide default values, descriptions and types for each field.\n"
   ]
  },
  {
   "cell_type": "code",
   "execution_count": 17,
   "id": "62e79af00e4f478",
   "metadata": {
    "ExecuteTime": {
     "end_time": "2025-03-11T08:58:46.227775Z",
     "start_time": "2025-03-11T08:58:46.225685Z"
    },
    "editable": true,
    "slideshow": {
     "slide_type": "fragment"
    },
    "tags": []
   },
   "outputs": [],
   "source": [
    "def generate_completion_json_schema(message: str, schema: dict):\n",
    "    return client.chat.completions.create(\n",
    "        model=MODEL,\n",
    "        messages=[{\"role\": \"user\", \"content\": message}],\n",
    "        response_format={\n",
    "            \"type\": \"json_schema\",\n",
    "            \"json_schema\": {\n",
    "                \"name\": \"ExtractedData\",\n",
    "                \"schema\": schema\n",
    "            },\n",
    "        },\n",
    "    )"
   ]
  },
  {
   "cell_type": "code",
   "execution_count": 18,
   "id": "9efab2aecdfdd6f5",
   "metadata": {
    "ExecuteTime": {
     "end_time": "2025-03-11T08:58:53.517145Z",
     "start_time": "2025-03-11T08:58:46.235379Z"
    },
    "editable": true,
    "slideshow": {
     "slide_type": "fragment"
    },
    "tags": []
   },
   "outputs": [],
   "source": [
    "schema = {\n",
    "    \"type\": \"object\",\n",
    "    \"name\": \"ExtractedData\",\n",
    "    \"description\": \"Metadata for a research article including its title, list of authors, and abstract summary.\",\n",
    "    \"properties\": {\n",
    "        \"title\": {\n",
    "            \"type\": \"string\",\n",
    "            \"description\": \"The title of the research article.\",\n",
    "            \"default\": \"Unknown\"\n",
    "        },\n",
    "        \"authors\": {\n",
    "            \"type\": \"array\",\n",
    "            \"items\": {\"type\": \"string\"},\n",
    "            \"description\": \"A list of authors who contributed to the article.\"\n",
    "        },\n",
    "        \"abstract\": {\n",
    "            \"type\": \"string\",\n",
    "            \"description\": \"A brief summary of the article's content and findings.\"\n",
    "        },\n",
    "    },\n",
    "    \"additionalProperties\": False,\n",
    "}\n",
    "\n",
    "prompt = f\"\"\"\n",
    "You are a document processing assistant. I have extracted the following markdown text from a PDF.\n",
    "Please extract the following details:\n",
    "- Title\n",
    "- Authors\n",
    "- Abstract\n",
    "\n",
    "Markdown text:\n",
    "{markdown_text}\n",
    "\n",
    "Give me the result in JSON format.\n",
    "\"\"\"\n",
    "\n",
    "completion = generate_completion_json_schema(prompt, schema)"
   ]
  },
  {
   "cell_type": "code",
   "execution_count": 19,
   "id": "1e6514e766d8ea94",
   "metadata": {
    "ExecuteTime": {
     "end_time": "2025-03-11T08:58:53.530345Z",
     "start_time": "2025-03-11T08:58:53.525958Z"
    },
    "editable": true,
    "slideshow": {
     "slide_type": "subslide"
    },
    "tags": []
   },
   "outputs": [
    {
     "data": {
      "text/plain": [
       "{'title': 'Explainable machine learning prediction of edema adverse events in patients treated with tepotinib',\n",
       " 'authors': ['Federico Amato',\n",
       "  'Rainer Strotmann',\n",
       "  'Roberto Castello',\n",
       "  'Rolf Bruns',\n",
       "  'Vishal Ghori',\n",
       "  'Andreas John',\n",
       "  'Karin Berghoff',\n",
       "  'Karthik Venkatakrishnan',\n",
       "  'Nadia Terranova'],\n",
       " 'abstract': 'Tepotinib is approved for the treatment of patients with non-small-cell lung cancer harboring MET exon 14 skipping alterations. While edema is the most prevalent adverse event (AE) and a known class effect of MET inhibitors including tepotinib, there is still limited understanding about the factors contributing to its occurrence. Herein, we apply machine learning (ML)-based approaches to predict the likelihood of occurrence of edema in patients undergoing tepotinib treatment, and to identify factors influencing its development over time. Data from 612 patients receiving tepotinib in five Phase I/II studies were modeled with two ML algorithms, Random Forest, and Gradient Boosting Trees, to predict edema AE incidence and severity. Probability calibration was applied to give a realistic estimation of the likelihood of edema AE. Best model was tested on follow-up data and on data from clinical studies unused while training. Results showed high performances across all the tested settings, with F1 scores up to 0.961 when retraining the model with the most relevant covariates. The use of ML explainability methods identified serum albumin as the most informative longitudinal covariate, and higher age as associated with higher probabilities of more severe edema. The developed methodological framework enables the use of ML algorithms for analyzing clinical safety data and exploiting longitudinal information through various covariate engineering approaches. Probability calibration ensures the accurate estimation of the likelihood of the AE occurrence, while explainability tools can identify factors contributing to model predictions, hence supporting population and individual patient-level interpretation.'}"
      ]
     },
     "execution_count": 19,
     "metadata": {},
     "output_type": "execute_result"
    }
   ],
   "source": [
    "json.loads(completion.choices[0].message.content)"
   ]
  },
  {
   "cell_type": "markdown",
   "id": "92d6b52d-b48e-4a37-87aa-52f4b077d4fc",
   "metadata": {
    "editable": true,
    "slideshow": {
     "slide_type": "fragment"
    },
    "tags": []
   },
   "source": [
    "#### Result\n",
    "\n",
    "Now the output will always correspond to the expected schema. Since everything is provided the model doesn't have to guess the shape or part of the shape of the output."
   ]
  },
  {
   "cell_type": "markdown",
   "id": "f1d130902a04702",
   "metadata": {
    "editable": true,
    "slideshow": {
     "slide_type": "slide"
    },
    "tags": []
   },
   "source": [
    "## Using the Types\n",
    "\n",
    "Alternatively, we can use Pydantic models to define the expected output format (cf. https://docs.pydantic.dev/latest/). This way we can enforce the structure of the output and provide additional type checking. This can be particularly useful when working with APIs that expect a specific format.\n"
   ]
  },
  {
   "cell_type": "code",
   "execution_count": 20,
   "id": "e7e06a2a2e4112f6",
   "metadata": {
    "ExecuteTime": {
     "end_time": "2025-03-11T08:58:53.557468Z",
     "start_time": "2025-03-11T08:58:53.553164Z"
    },
    "editable": true,
    "slideshow": {
     "slide_type": "fragment"
    },
    "tags": []
   },
   "outputs": [],
   "source": [
    "class ExtractedData(BaseModel):\n",
    "    title: str = Field(..., description=\"The title of the research article.\")\n",
    "    authors: List[str] = Field(..., description=\"A list of authors who contributed to the article.\")\n",
    "    abstract: str = Field(..., description=\"A brief summary of the article's content and findings.\")\n",
    "\n",
    "def generate_completion_pydantic(message: str):\n",
    "    return client.beta.chat.completions.parse(\n",
    "        model=MODEL,\n",
    "        messages=[{\"role\": \"user\", \"content\": message}],\n",
    "        response_format=ExtractedData,\n",
    "    )\n",
    "\n"
   ]
  },
  {
   "cell_type": "code",
   "execution_count": 21,
   "id": "b82ba109ab524638",
   "metadata": {
    "ExecuteTime": {
     "end_time": "2025-03-11T08:59:00.444312Z",
     "start_time": "2025-03-11T08:58:53.574090Z"
    },
    "editable": true,
    "slideshow": {
     "slide_type": "fragment"
    },
    "tags": []
   },
   "outputs": [],
   "source": [
    "prompt = f\"\"\"\n",
    "You are a document processing assistant. I have extracted the following markdown text from a PDF.\n",
    "Please extract the following details:\n",
    "- Title\n",
    "- Authors\n",
    "- Abstract\n",
    "\n",
    "Markdown text:\n",
    "{markdown_text}\n",
    "\"\"\"\n",
    "\n",
    "completion = generate_completion_pydantic(prompt)"
   ]
  },
  {
   "cell_type": "code",
   "execution_count": 22,
   "id": "784ad6ac9c8dbe4d",
   "metadata": {
    "ExecuteTime": {
     "end_time": "2025-03-11T08:59:00.454596Z",
     "start_time": "2025-03-11T08:59:00.451659Z"
    },
    "editable": true,
    "scrolled": true,
    "slideshow": {
     "slide_type": "subslide"
    },
    "tags": []
   },
   "outputs": [
    {
     "data": {
      "text/plain": [
       "{'title': 'Explainable machine learning prediction of edema adverse events in patients treated with tepotinib',\n",
       " 'authors': ['Federico Amato',\n",
       "  'Rainer Strotmann',\n",
       "  'Roberto Castell',\n",
       "  'Rolf Bruns',\n",
       "  'Vishal Ghori',\n",
       "  'Andreas John',\n",
       "  'Karin Berghoff',\n",
       "  'Karthik Venkatakrishnan',\n",
       "  'Nadia Terranova'],\n",
       " 'abstract': 'Tepotinib is approved for the treatment of patients with non-small-cell lung cancer harboring MET exon 14 skipping alterations. While edema is the most prevalent adverse event (AE) and a known class effect of MET inhibitors including tepotinib, there is still limited understanding about the factors contributing to its occurrence. Herein, we apply machine learning (ML)-based approaches to predict the likelihood of occurrence of edema in patients undergoing tepotinib treatment, and to identify factors influencing its development over time. Data from 612 patients receiving tepotinib in five Phase I/II studies were modeled with two ML algorithms, Random Forest, and Gradient Boosting Trees, to predict edema AE incidence and severity. Probability calibration was applied to give a realistic estimation of the likelihood of edema AE. Best model was tested on follow-up data and on data from clinical studies unused while training. Results showed high performances across all the tested settings, with F1 scores up to 0.961 when retraining the model with the most relevant covariates. The use of ML explainability methods identified serum albumin as the most informative longitudinal covariate, and higher age as associated with higher probabilities of more severe edema. The developed methodological framework enables the use of ML algorithms for analyzing clinical safety data and exploiting longitudinal information through various covariate engineering approaches. Probability calibration ensures the accurate estimation of the likelihood of the AE occurrence, while explainability tools can identify factors contributing to model predictions, hence supporting population and individual patient-level interpretation.'}"
      ]
     },
     "execution_count": 22,
     "metadata": {},
     "output_type": "execute_result"
    }
   ],
   "source": [
    "json.loads(completion.choices[0].message.content)"
   ]
  },
  {
   "cell_type": "markdown",
   "id": "abf79a16b0ddffc6",
   "metadata": {
    "editable": true,
    "slideshow": {
     "slide_type": "slide"
    },
    "tags": []
   },
   "source": [
    "## Function calling\n",
    "\n",
    "Many LLMs don't support the structured output format. In that case you can specify to the llm to call a function to extract the information. This way you can define the function signature and the llm will call the function with the extracted information."
   ]
  },
  {
   "cell_type": "code",
   "execution_count": 23,
   "id": "80aeb79375c8b40b",
   "metadata": {
    "ExecuteTime": {
     "end_time": "2025-03-11T08:59:00.464293Z",
     "start_time": "2025-03-11T08:59:00.460795Z"
    },
    "editable": true,
    "slideshow": {
     "slide_type": "fragment"
    },
    "tags": []
   },
   "outputs": [],
   "source": [
    "article_extraction_function_description = {\n",
    "    \"type\": \"function\",\n",
    "    \"function\": {\n",
    "        \"name\": \"extract_article_data\",\n",
    "        \"description\": \"Extract article metadata from markdown text.\",\n",
    "        \"parameters\": {\n",
    "            \"type\": \"object\",\n",
    "            \"properties\": {\n",
    "                \"title\": {\n",
    "                    \"type\": \"string\",\n",
    "                    \"description\": \"The title of the research article.\"\n",
    "                },\n",
    "                \"authors\": {\n",
    "                    \"type\": \"array\",\n",
    "                    \"items\": {\"type\": \"string\"},\n",
    "                    \"description\": \"A list of authors who contributed to the article.\"\n",
    "                },\n",
    "                \"abstract\": {\n",
    "                    \"type\": \"string\",\n",
    "                    \"description\": \"A brief summary of the article's content and findings.\"\n",
    "                }\n",
    "            },\n",
    "            \"required\": [\"title\", \"authors\", \"abstract\"]\n",
    "        }\n",
    "    }\n",
    "}\n",
    "\n",
    "def generate_completion_tool_calls(message: str):\n",
    "    return client.chat.completions.create(\n",
    "        model=MODEL, \n",
    "        messages=[{\"role\": \"user\", \"content\": message}],\n",
    "        tools=[article_extraction_function_description],\n",
    "        tool_choice=\"auto\",\n",
    "    )"
   ]
  },
  {
   "cell_type": "code",
   "execution_count": 24,
   "id": "3b6c433112fd0d0c",
   "metadata": {
    "ExecuteTime": {
     "end_time": "2025-03-11T08:59:08.794159Z",
     "start_time": "2025-03-11T08:59:00.474416Z"
    },
    "editable": true,
    "slideshow": {
     "slide_type": "fragment"
    },
    "tags": []
   },
   "outputs": [],
   "source": [
    "prompt = f\"\"\"\n",
    "You are a document processing assistant. I have extracted the following markdown text from a PDF.\n",
    "Please use the given tools to extract the following details:\n",
    "- Title\n",
    "- Authors\n",
    "- Abstract\n",
    "\n",
    "Markdown text:\n",
    "{markdown_text}\n",
    "\"\"\"\n",
    "\n",
    "completion = generate_completion_tool_calls(prompt)"
   ]
  },
  {
   "cell_type": "code",
   "execution_count": 25,
   "id": "1e81fe16153e3641",
   "metadata": {
    "ExecuteTime": {
     "end_time": "2025-03-11T08:59:08.808648Z",
     "start_time": "2025-03-11T08:59:08.805092Z"
    },
    "editable": true,
    "slideshow": {
     "slide_type": "subslide"
    },
    "tags": []
   },
   "outputs": [
    {
     "data": {
      "text/plain": [
       "{'title': 'Explainable machine learning prediction of edema adverse events in patients treated with tepotinib',\n",
       " 'authors': ['Federico Amato',\n",
       "  'Rainer Strotmann',\n",
       "  'Roberto Castello',\n",
       "  'Rolf Bruns',\n",
       "  'Vishal Ghori',\n",
       "  'Andreas Johne',\n",
       "  'Karin Berghoff',\n",
       "  'Karthik Venkatakrishnan',\n",
       "  'Nadia Terranova'],\n",
       " 'abstract': 'Tepotinib is approved for the treatment of patients with non-small-cell lung cancer harboring MET exon 14 skipping alterations. While edema is the most prevalent adverse event (AE) and a known class effect of MET inhibitors including tepotinib, there is still limited understanding about the factors contributing to its occurrence. Herein, we apply machine learning (ML)-based approaches to predict the likelihood of occurrence of edema in patients undergoing tepotinib treatment, and to identify factors influencing its development over time. Data from 612 patients receiving tepotinib in five Phase I/II studies were modeled with two ML algorithms, Random Forest, and Gradient Boosting Trees, to predict edema AE incidence and severity. Probability calibration was applied to give a realistic estimation of the likelihood of edema AE. Best model was tested on follow-up data and on data from clinical studies unused while training. Results showed high performances across all the tested settings, with F1 scores up to 0.961 when retraining the model with the most relevant covariates. The use of ML explainability methods identified serum albumin as the most informative longitudinal covariate, and higher age as associated with higher probabilities of more severe edema. The developed methodological framework enables the use of ML algorithms for analyzing clinical safety data and exploiting longitudinal information through various covariate engineering approaches. Probability calibration ensures the accurate estimation of the likelihood of the AE occurrence, while explainability tools can identify factors contributing to model predictions, hence supporting population and individual patient-level interpretation.'}"
      ]
     },
     "execution_count": 25,
     "metadata": {},
     "output_type": "execute_result"
    }
   ],
   "source": [
    "json.loads(completion.choices[0].message.tool_calls[0].function.arguments)"
   ]
  },
  {
   "cell_type": "markdown",
   "id": "40cedb74-5c8d-47e2-be6f-c60e640adf92",
   "metadata": {
    "editable": true,
    "slideshow": {
     "slide_type": ""
    },
    "tags": []
   },
   "source": [
    "#### Notes\n",
    "\n",
    "Here you can note that we don't call the functions. The goal is not to use them as a tool call, but as a way of extracting the data from the documents "
   ]
  },
  {
   "cell_type": "markdown",
   "id": "a995dcb724cfc267",
   "metadata": {
    "editable": true,
    "slideshow": {
     "slide_type": "slide"
    },
    "tags": []
   },
   "source": [
    "# Multiple function calls\n",
    "\n",
    "It's important to note that you can ask the llm to call multiple functions to extract the information in the same call. This way you can have a more modular approach to the data extraction."
   ]
  },
  {
   "cell_type": "code",
   "execution_count": 26,
   "id": "9e8c4bc3abaf0fea",
   "metadata": {
    "ExecuteTime": {
     "end_time": "2025-03-11T08:59:08.829020Z",
     "start_time": "2025-03-11T08:59:08.825409Z"
    },
    "editable": true,
    "slideshow": {
     "slide_type": "subslide"
    },
    "tags": []
   },
   "outputs": [],
   "source": [
    "import json\n",
    "\n",
    "# Define separate function descriptions for each property.\n",
    "title_extraction_function_description = {\n",
    "    \"type\": \"function\",\n",
    "    \"function\": {\n",
    "        \"name\": \"extract_title\",\n",
    "        \"description\": \"Extract the title from markdown text.\",\n",
    "        \"parameters\": {\n",
    "            \"type\": \"object\",\n",
    "            \"properties\": {\n",
    "                \"title\": {\n",
    "                    \"type\": \"string\",\n",
    "                    \"description\": \"The title of the research article.\"\n",
    "                }\n",
    "            },\n",
    "            \"required\": [\"title\"]\n",
    "        }\n",
    "    }\n",
    "}\n",
    "\n",
    "authors_extraction_function_description = {\n",
    "    \"type\": \"function\",\n",
    "    \"function\": {\n",
    "        \"name\": \"extract_authors\",\n",
    "        \"description\": \"Extract the list of authors from markdown text.\",\n",
    "        \"parameters\": {\n",
    "            \"type\": \"object\",\n",
    "            \"properties\": {\n",
    "                \"authors\": {\n",
    "                    \"type\": \"array\",\n",
    "                    \"items\": {\"type\": \"string\"},\n",
    "                    \"description\": \"A list of authors who contributed to the article.\"\n",
    "                }\n",
    "            },\n",
    "            \"required\": [\"authors\"]\n",
    "        }\n",
    "    }\n",
    "}\n",
    "\n",
    "abstract_extraction_function_description = {\n",
    "    \"type\": \"function\",\n",
    "    \"function\": {\n",
    "        \"name\": \"extract_abstract\",\n",
    "        \"description\": \"Extract the abstract from markdown text.\",\n",
    "        \"parameters\": {\n",
    "            \"type\": \"object\",\n",
    "            \"properties\": {\n",
    "                \"abstract\": {\n",
    "                    \"type\": \"string\",\n",
    "                    \"description\": \"A brief summary of the article's content and findings.\"\n",
    "                }\n",
    "            },\n",
    "            \"required\": [\"abstract\"]\n",
    "        }\n",
    "    }\n",
    "}\n"
   ]
  },
  {
   "cell_type": "code",
   "execution_count": 27,
   "id": "1635be75-f0df-4e0f-807e-7e50c40b85b6",
   "metadata": {
    "ExecuteTime": {
     "end_time": "2025-03-11T08:59:08.847149Z",
     "start_time": "2025-03-11T08:59:08.843741Z"
    },
    "editable": true,
    "slideshow": {
     "slide_type": "subslide"
    },
    "tags": []
   },
   "outputs": [],
   "source": [
    "def generate_completion_multiple_tool_calls(message: str):\n",
    "    response = client.chat.completions.create(\n",
    "        model=MODEL,\n",
    "        messages=[{\"role\": \"user\", \"content\": message}],\n",
    "        tools=[\n",
    "            title_extraction_function_description,\n",
    "            authors_extraction_function_description,\n",
    "            abstract_extraction_function_description,\n",
    "        ],\n",
    "        tool_choice=\"auto\",\n",
    "    )\n",
    "\n",
    "    # Combine the outputs from each function call.\n",
    "    extracted_data = {}\n",
    "    tool_calls = response.choices[0].message.tool_calls  # List of function call responses.\n",
    "    for tool_call in tool_calls:\n",
    "        function_name = tool_call.function.name\n",
    "        # Parse the JSON string of arguments.\n",
    "        arguments = json.loads(tool_call.function.arguments)\n",
    "        if function_name == \"extract_title\":\n",
    "            extracted_data[\"title\"] = arguments[\"title\"]\n",
    "        elif function_name == \"extract_authors\":\n",
    "            extracted_data[\"authors\"] = arguments[\"authors\"]\n",
    "        elif function_name == \"extract_abstract\":\n",
    "            extracted_data[\"abstract\"] = arguments[\"abstract\"]\n",
    "\n",
    "    return extracted_data"
   ]
  },
  {
   "cell_type": "code",
   "execution_count": 28,
   "id": "f3fedf482ed40fb5",
   "metadata": {
    "ExecuteTime": {
     "start_time": "2025-03-11T08:59:08.856844Z"
    },
    "editable": true,
    "jupyter": {
     "is_executing": true
    },
    "slideshow": {
     "slide_type": "fragment"
    },
    "tags": []
   },
   "outputs": [],
   "source": [
    "# Example prompt that provides markdown text.\n",
    "prompt = f\"\"\"\n",
    "You are a document processing assistant. I have extracted the following markdown text from a PDF.\n",
    "Please use the given tools to extract the following details:\n",
    "- Title\n",
    "- Authors\n",
    "- Abstract\n",
    "\n",
    "Markdown text:\n",
    "{markdown_text}\n",
    "\"\"\"\n",
    "\n",
    "extracted_data = generate_completion_multiple_tool_calls(prompt)"
   ]
  },
  {
   "cell_type": "code",
   "execution_count": 29,
   "id": "adfd60bb02aa0ca9",
   "metadata": {
    "editable": true,
    "slideshow": {
     "slide_type": "subslide"
    },
    "tags": []
   },
   "outputs": [
    {
     "data": {
      "text/plain": [
       "{'title': 'Explainable machine learning prediction of edema adverse events in patients treated with tepotinib',\n",
       " 'authors': ['Federico Amato',\n",
       "  'Rainer Strotmann',\n",
       "  'Roberto Castell',\n",
       "  'Rolf Bruns',\n",
       "  'Vishal Ghori',\n",
       "  'Andreas John',\n",
       "  'Karin Berghoff',\n",
       "  'Karthik Venkatakrishna',\n",
       "  'Nadia Terranova'],\n",
       " 'abstract': 'Tepotinib is approved for the treatment of patients with non-small-cell lung cancer harboring MET exon 14 skipping alterations. While edema is the most prevalent adverse event (AE) and a known class effect of MET inhibitors including tepotinib, there is still limited understanding about the factors contributing to its occurrence. Herein, we apply machine learning (ML)-based approaches to predict the likelihood of occurrence of edema in patients undergoing tepotinib treatment, and to identify factors influencing its development over time. Data from 612 patients receiving tepotinib in five Phase I/II studies were modeled with two ML algorithms, Random Forest, and Gradient Boosting Trees, to predict edema AE incidence and severity. Probability calibration was applied to give a realistic estimation of the likelihood of edema AE. Best model was tested on follow-up data and on data from clinical studies unused while training. Results showed high performances across all the tested settings, with F1 scores up to 0.961 when retraining the model with the most relevant covariates. The use of ML explainability methods identified serum albumin as the most informative longitudinal covariate, and higher age as associated with higher probabilities of more severe edema. The developed methodological framework enables the use of ML algorithms for analyzing clinical safety data and exploiting longitudinal information through various covariate engineering approaches. Probability calibration ensures the accurate estimation of the likelihood of the AE occurrence, while explainability tools can identify factors contributing to model predictions, hence supporting population and individual patient-level interpretation.'}"
      ]
     },
     "execution_count": 29,
     "metadata": {},
     "output_type": "execute_result"
    }
   ],
   "source": [
    "extracted_data"
   ]
  },
  {
   "cell_type": "markdown",
   "id": "49a5e052-a9fd-4e70-bbc2-0acb0d09d6b7",
   "metadata": {
    "editable": true,
    "slideshow": {
     "slide_type": "slide"
    },
    "tags": []
   },
   "source": [
    "## Cost\n",
    "\n",
    "Let's compute the cost of the completion. We'll use the following pricing: https://openai.com/api/pricing/"
   ]
  },
  {
   "cell_type": "code",
   "execution_count": 30,
   "id": "28d43065fa170603",
   "metadata": {
    "editable": true,
    "slideshow": {
     "slide_type": "fragment"
    },
    "tags": []
   },
   "outputs": [],
   "source": [
    "def compute_chatgpt_4o_cost(completion, verbose: bool = False) -> float:\n",
    "    input_tokens = completion.usage.prompt_tokens\n",
    "    output_tokens = completion.usage.completion_tokens\n",
    "\n",
    "    cost_per_1M_input_tokens = 0.15\n",
    "    cost_per_1M_output_tokens = 0.60\n",
    "\n",
    "    total_cost = (input_tokens / 1e6) * cost_per_1M_input_tokens\n",
    "    total_cost += (output_tokens / 1e6) * cost_per_1M_output_tokens\n",
    "\n",
    "    if verbose:\n",
    "        print(f\"Total input tokens: {input_tokens}\")\n",
    "        print(f\"Total output tokens: {output_tokens}\")\n",
    "        print(f\"Total tokens: {input_tokens+output_tokens}\")\n",
    "        print(f\"Estimated cost: ${total_cost:.4f}\")\n",
    "\n",
    "    return total_cost\n"
   ]
  },
  {
   "cell_type": "code",
   "execution_count": 31,
   "id": "e6b280d6-cae1-41c2-85e1-65ce975c611f",
   "metadata": {
    "editable": true,
    "slideshow": {
     "slide_type": "subslide"
    },
    "tags": []
   },
   "outputs": [
    {
     "name": "stdout",
     "output_type": "stream",
     "text": [
      "Total input tokens: 13636\n",
      "Total output tokens: 412\n",
      "Total tokens: 14048\n",
      "Estimated cost: $0.0023\n"
     ]
    },
    {
     "data": {
      "text/plain": [
       "0.0022926"
      ]
     },
     "execution_count": 31,
     "metadata": {},
     "output_type": "execute_result"
    }
   ],
   "source": [
    "compute_chatgpt_4o_cost(completion, verbose=True)"
   ]
  },
  {
   "cell_type": "markdown",
   "id": "fc4a8553f3ef6b06",
   "metadata": {
    "editable": true,
    "slideshow": {
     "slide_type": "fragment"
    },
    "tags": []
   },
   "source": [
    "As you can see the major part of the cost is the input tokens. Here we're passing the whole document to the llm which make up for more than 90% of the cost. In the next part we'll see how to reduce the cost by passing only the relevant information to the llm (RAG)."
   ]
  },
  {
   "cell_type": "markdown",
   "id": "75f8a80e-28aa-4b91-adbc-5a0a46cf40b1",
   "metadata": {
    "editable": true,
    "slideshow": {
     "slide_type": "slide"
    },
    "tags": []
   },
   "source": [
    "## Conclusion\n",
    "\n",
    "Structured output help the LLM to produce better and more interpretable results. On the chart below you'll find the relative performances in terms of reliability of the output matching the expected json format."
   ]
  },
  {
   "cell_type": "markdown",
   "id": "2232c3abb0b6a8d1",
   "metadata": {
    "editable": true,
    "slideshow": {
     "slide_type": ""
    },
    "tags": []
   },
   "source": [
    "![output_reliability](../data/output_reliability.png)"
   ]
  },
  {
   "cell_type": "markdown",
   "id": "dd043297d27a185f",
   "metadata": {
    "editable": true,
    "slideshow": {
     "slide_type": "slide"
    },
    "tags": []
   },
   "source": [
    "# Exercises"
   ]
  },
  {
   "cell_type": "markdown",
   "id": "35f5bac63d162b4a",
   "metadata": {
    "editable": true,
    "slideshow": {
     "slide_type": ""
    },
    "tags": []
   },
   "source": [
    "#### Exercise 1: Update the different methods to also extract the date when this paper was published\n",
    "\n",
    "Guideline:\n",
    "* Ask for the date to be ISO formatted.\n"
   ]
  },
  {
   "cell_type": "markdown",
   "id": "b9c19a0ef3e18889",
   "metadata": {
    "editable": true,
    "slideshow": {
     "slide_type": ""
    },
    "tags": []
   },
   "source": [
    "#### Exercise 2: Extract the Bibliography.\n",
    "\n",
    "Guideline:\n",
    "* First define a json schema that will guide the data extraction.\n",
    "* Then define a tool call that will extract the data from one cited paper.\n",
    "* Finally call the tool multiple time and aggregate the results"
   ]
  }
 ],
 "metadata": {
  "kernelspec": {
   "display_name": "Python 3 (ipykernel)",
   "language": "python",
   "name": "python3"
  },
  "language_info": {
   "codemirror_mode": {
    "name": "ipython",
    "version": 3
   },
   "file_extension": ".py",
   "mimetype": "text/x-python",
   "name": "python",
   "nbconvert_exporter": "python",
   "pygments_lexer": "ipython3",
   "version": "3.11.6"
  }
 },
 "nbformat": 4,
 "nbformat_minor": 5
}
